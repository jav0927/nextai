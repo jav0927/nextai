{
 "cells": [
  {
   "cell_type": "code",
   "execution_count": null,
   "metadata": {},
   "outputs": [],
   "source": [
    "IN_COLAB = 'google.colab' in str(get_ipython())\n",
    "if IN_COLAB:\n",
    "  !pip install git+https://github.com/pete88b/nbdev_colab_helper.git\n",
    "  from nbdev_colab_helper.core import *\n",
    "  project_name = 'nextai'\n",
    "  init_notebook(project_name)"
   ]
  },
  {
   "cell_type": "code",
   "execution_count": null,
   "metadata": {},
   "outputs": [],
   "source": [
    "!pip install -e \"/content/drive/My Drive/Colab Notebooks/github/nextai\""
   ]
  },
  {
   "cell_type": "code",
   "execution_count": null,
   "metadata": {},
   "outputs": [],
   "source": [
    "import inference_core"
   ]
  },
  {
   "cell_type": "code",
   "execution_count": null,
   "metadata": {},
   "outputs": [
    {
     "name": "stdout",
     "output_type": "stream",
     "text": [
      "\u001b[?25l\r\u001b[K     |█                               | 10kB 20.7MB/s eta 0:00:01\r\u001b[K     |█▉                              | 20kB 1.8MB/s eta 0:00:01\r\u001b[K     |██▊                             | 30kB 2.3MB/s eta 0:00:01\r\u001b[K     |███▊                            | 40kB 2.6MB/s eta 0:00:01\r\u001b[K     |████▋                           | 51kB 2.1MB/s eta 0:00:01\r\u001b[K     |█████▌                          | 61kB 2.3MB/s eta 0:00:01\r\u001b[K     |██████▌                         | 71kB 2.5MB/s eta 0:00:01\r\u001b[K     |███████▍                        | 81kB 2.7MB/s eta 0:00:01\r\u001b[K     |████████▎                       | 92kB 2.9MB/s eta 0:00:01\r\u001b[K     |█████████▎                      | 102kB 2.8MB/s eta 0:00:01\r\u001b[K     |██████████▏                     | 112kB 2.8MB/s eta 0:00:01\r\u001b[K     |███████████                     | 122kB 2.8MB/s eta 0:00:01\r\u001b[K     |████████████                    | 133kB 2.8MB/s eta 0:00:01\r\u001b[K     |█████████████                   | 143kB 2.8MB/s eta 0:00:01\r\u001b[K     |█████████████▉                  | 153kB 2.8MB/s eta 0:00:01\r\u001b[K     |██████████████▉                 | 163kB 2.8MB/s eta 0:00:01\r\u001b[K     |███████████████▊                | 174kB 2.8MB/s eta 0:00:01\r\u001b[K     |████████████████▋               | 184kB 2.8MB/s eta 0:00:01\r\u001b[K     |█████████████████▋              | 194kB 2.8MB/s eta 0:00:01\r\u001b[K     |██████████████████▌             | 204kB 2.8MB/s eta 0:00:01\r\u001b[K     |███████████████████▍            | 215kB 2.8MB/s eta 0:00:01\r\u001b[K     |████████████████████▍           | 225kB 2.8MB/s eta 0:00:01\r\u001b[K     |█████████████████████▎          | 235kB 2.8MB/s eta 0:00:01\r\u001b[K     |██████████████████████▏         | 245kB 2.8MB/s eta 0:00:01\r\u001b[K     |███████████████████████▏        | 256kB 2.8MB/s eta 0:00:01\r\u001b[K     |████████████████████████        | 266kB 2.8MB/s eta 0:00:01\r\u001b[K     |█████████████████████████       | 276kB 2.8MB/s eta 0:00:01\r\u001b[K     |█████████████████████████▉      | 286kB 2.8MB/s eta 0:00:01\r\u001b[K     |██████████████████████████▉     | 296kB 2.8MB/s eta 0:00:01\r\u001b[K     |███████████████████████████▊    | 307kB 2.8MB/s eta 0:00:01\r\u001b[K     |████████████████████████████▋   | 317kB 2.8MB/s eta 0:00:01\r\u001b[K     |█████████████████████████████▋  | 327kB 2.8MB/s eta 0:00:01\r\u001b[K     |██████████████████████████████▌ | 337kB 2.8MB/s eta 0:00:01\r\u001b[K     |███████████████████████████████▍| 348kB 2.8MB/s eta 0:00:01\r\u001b[K     |████████████████████████████████| 358kB 2.8MB/s \n",
      "\u001b[?25h"
     ]
    }
   ],
   "source": [
    "!pip install fastai --upgrade --quiet"
   ]
  },
  {
   "cell_type": "code",
   "execution_count": null,
   "metadata": {},
   "outputs": [],
   "source": [
    "#hide\n",
    "#Insensitive to tensor dimensions\n",
    "rot = rotate_90_minus(torch.tensor([0,0,1,1])); rot"
   ]
  }
 ],
 "metadata": {
  "kernelspec": {
   "display_name": "Python 3",
   "name": "python3"
  }
 },
 "nbformat": 4,
 "nbformat_minor": 0
}
