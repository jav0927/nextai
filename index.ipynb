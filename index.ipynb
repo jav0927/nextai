{
 "cells": [
  {
   "cell_type": "markdown",
   "metadata": {},
   "source": [
    "# Nextai\n",
    "\n",
    ">Object recognition research notebooks and investigations on other vision related areas."
   ]
  },
  {
   "cell_type": "markdown",
   "metadata": {},
   "source": [
    "## Install\n",
    "\n",
    "(add installation here)"
   ]
  },
  {
   "cell_type": "markdown",
   "metadata": {},
   "source": [
    "## Introduction\n",
    "This library contains classes and modules for use in developing neural networks for object recognition applications.\n",
    "Functions automated in the library include:\n",
    "\n",
    "*   Google AutoAgment data augmentation methods\n",
    "*   NN models: SSD and RetinaNet\n",
    "*   Core methods to develop training and inference \n",
    "*   Training algorithms\n",
    "*   Inference algorithms"
   ]
  },
  {
   "cell_type": "markdown",
   "metadata": {},
   "source": [
    "## How to Use\n",
    "\n",
    "*   Install the nextai library in your environment\n",
    "*   from nextai import *"
   ]
  }
 ],
 "metadata": {
  "kernelspec": {
   "display_name": "Python 3",
   "language": "python",
   "name": "python3"
  }
 },
 "nbformat": 4,
 "nbformat_minor": 0
}
