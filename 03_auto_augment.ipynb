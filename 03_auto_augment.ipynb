{
 "cells": [
  {
   "cell_type": "code",
   "execution_count": null,
   "metadata": {},
   "outputs": [
    {
     "name": "stdout",
     "output_type": "stream",
     "text": [
      "The autoreload extension is already loaded. To reload it, use:\n",
      "  %reload_ext autoreload\n"
     ]
    }
   ],
   "source": [
    "%load_ext autoreload\n",
    "%autoreload 2"
   ]
  },
  {
   "cell_type": "code",
   "execution_count": null,
   "metadata": {},
   "outputs": [
    {
     "name": "stdout",
     "output_type": "stream",
     "text": [
      "Collecting git+https://github.com/pete88b/nbdev_colab_helper.git\n",
      "  Cloning https://github.com/pete88b/nbdev_colab_helper.git to /tmp/pip-req-build-j52afnh7\n",
      "  Running command git clone -q https://github.com/pete88b/nbdev_colab_helper.git /tmp/pip-req-build-j52afnh7\n"
     ]
    }
   ],
   "source": [
    "IN_COLAB = 'google.colab' in str(get_ipython())\n",
    "if IN_COLAB:\n",
    "  !pip install git+https://github.com/pete88b/nbdev_colab_helper.git\n",
    "  from nbdev_colab_helper.core import *\n",
    "  project_name = 'nextai'\n",
    "  init_notebook(project_name)"
   ]
  },
  {
   "cell_type": "markdown",
   "metadata": {},
   "source": [
    " # auto_agument\n",
    "\n",
    "> Implements Google AutoAugment augmentations.\n",
    " "
   ]
  },
  {
   "cell_type": "code",
   "execution_count": null,
   "metadata": {},
   "outputs": [],
   "source": [
    "#default_exp auto_augment"
   ]
  },
  {
   "cell_type": "code",
   "execution_count": null,
   "metadata": {},
   "outputs": [],
   "source": [
    "#hide\n",
    "!pip install fastai --upgrade --quiet"
   ]
  },
  {
   "cell_type": "code",
   "execution_count": null,
   "metadata": {},
   "outputs": [],
   "source": [
    "%nbdev_export\n",
    "from fastai.basics import *\n",
    "from fastai.core import *\n",
    "from fastai.data import *\n",
    "\n",
    "from torch import tensor, Tensor\n",
    "import torch\n",
    "\n",
    "# For use in Auto Augment data transformations\n",
    "import random\n",
    "import torchvision.transforms.functional as FT\n",
    "from typing import *\n",
    "from PIL import Image, ImageEnhance, ImageOps\n",
    "import math\n",
    "import copy"
   ]
  },
  {
   "cell_type": "code",
   "execution_count": null,
   "metadata": {},
   "outputs": [],
   "source": [
    "%nbdev_export\n",
    "# Automatically sets for GPU or CPU environments\n",
    "device = torch.device('cuda' if torch.cuda.is_available() else 'cpu') "
   ]
  },
  {
   "cell_type": "markdown",
   "metadata": {},
   "source": [
    "#### Helper functions"
   ]
  },
  {
   "cell_type": "code",
   "execution_count": null,
   "metadata": {},
   "outputs": [],
   "source": [
    "%nbdev_export\n",
    "# Convert FASTAI image basis. (-1,-1) to (1,1)  to PIL image basis (0,0) to (1,1)    \n",
    "def fastai2pil_basis(b) :  return ((b + 1.)).div(2.)      # b - Bounding box(s)     "
   ]
  },
  {
   "cell_type": "code",
   "execution_count": null,
   "metadata": {},
   "outputs": [],
   "source": [
    "%nbdev_export\n",
    "# Convert PIL image basis (0,0) to (1,1) to FASTAI image basis. (-1,-1) to (1,1) \n",
    "def pil2fastai_basis(b):  return (b * 2.).float() - 1.    # b - Bounding box(s)   "
   ]
  },
  {
   "cell_type": "code",
   "execution_count": null,
   "metadata": {},
   "outputs": [],
   "source": [
    "%nbdev_export\n",
    "# Helper Function\n",
    "#TODO: image or PILImage\n",
    "def pil2tensor(image:Image,dtype:np.dtype)->TensorImage:\n",
    "    ''' Convert PIL style `image` array to torch style image tensor.\n",
    "        Imput -  image -image in PILImage form\n",
    "        output - image in FASTAI image format\n",
    "        '''\n",
    "    a = np.asarray(image)\n",
    "    if a.ndim==2 : a = np.expand_dims(a,2)\n",
    "    a = np.transpose(a, (1, 0, 2))\n",
    "    a = np.transpose(a, (2, 1, 0))\n",
    "    return torch.from_numpy(a.astype(dtype, copy=False) )"
   ]
  },
  {
   "cell_type": "code",
   "execution_count": null,
   "metadata": {},
   "outputs": [],
   "source": [
    "%nbdev_export\n",
    "def flip_horizontal(bboxes): \n",
    "  ''' \n",
    "    Flips a bounding box tensor along the vertical axis \n",
    "    Input:    bboxes - 2-d tensor containing bounding boxes\n",
    "    Output:   Bounding boxes flipped along the vertical axis\n",
    "  '''\n",
    "  bboxes[:,[1,3]] = torch.flip(bboxes[:,[1,3]], [1])      # Swap the (x) columns: 1, and 3\n",
    "  bboxes[:,[1, 3]] *= -1;                                 #   Flip the sign of each of these columns\n",
    "  return bboxes"
   ]
  },
  {
   "cell_type": "code",
   "execution_count": null,
   "metadata": {},
   "outputs": [],
   "source": [
    "%nbdev_export\n",
    "def swap_xy_coords (bboxes):   \n",
    "  ''' swap yx coordinate sequences in bounding boxes into xy sequences, and viceversa \n",
    "      Input:    bboxes - 2-d tensor containing bounding boxes\n",
    "      Output:   Bounding boxes flipped with swapped coordinate, xy --> yx\n",
    "  '''\n",
    "  bboxes[:,[0,1]] = torch.flip(bboxes[:,[0,1]], [1]) \n",
    "  bboxes[:,[2,3]] = torch.flip(bboxes[:,[2,3]], [1])\n",
    "  return bboxes\n"
   ]
  },
  {
   "cell_type": "code",
   "execution_count": null,
   "metadata": {},
   "outputs": [],
   "source": [
    "%nbdev_export\n",
    "def rotate_bb(bb, rads): \n",
    "    ''' Rotate a bounding box (x1,y1,x2,y2) by an angle \n",
    "        Input:  bb -   bounding box\n",
    "                rads - rotation angle in radians \n",
    "        '''           \n",
    "    M = torch.tensor([                         # Rotation Matrix\n",
    "           [math.cos(rads), -math.sin(rads)],         \n",
    "           [math.sin(rads),  math.cos(rads)]\n",
    "           ] ).to(device)           \n",
    "    return torch.mm(M, bb.to(device))           #   \n"
   ]
  },
  {
   "cell_type": "markdown",
   "metadata": {},
   "source": [
    "#### Bounding Box transformations"
   ]
  },
  {
   "cell_type": "code",
   "execution_count": null,
   "metadata": {},
   "outputs": [],
   "source": [
    "%nbdev_export\n",
    "# SHEAR-HORIZONTALLY BOUNDING BOXES\n",
    "def shear_x_bboxes (bboxes:Tensor, factor:float, y_first=True):\n",
    "  ''' \n",
    "    Shear horizontally a tensor of bounding boxes\n",
    "    Input:      \n",
    "          bboxes  -      2-d tensor of bounding boxes associated with the image\n",
    "          factor  -      Factor by which the image in sheared in the horizontal direction\n",
    "          y_first -      Input coordinates in the format y1x1y2x2\n",
    "          TODO: change this\n",
    "    Output:\n",
    "          bboxes -       Sheared bounding boxes\n",
    "  '''\n",
    "  if not y_first: swap_xy_coords(bboxes)                                # swap yx sequence for xy sequence\n",
    "  m = bboxes[(bboxes == 0.).all(1)]                                     # Retain the all-zero rows\n",
    "  bboxes = bboxes[~(bboxes == 0.).all(1)]                               # Retain the non all-zero rows\n",
    "  mag = factor                                                          # If the factor is negative, flip the boxes about the (0,0) center\n",
    "  if factor <= 0 : mag = -factor; bboxes = flip_horizontal(bboxes)      # so it can be sheared correctly (in the positive orientation)\n",
    "  bboxes = fastai2pil_basis(bboxes)                                     # Convert to PIL image basis (0,0) to (1,1)       \n",
    "  bboxes[:,[1,3]] = bboxes[:,[1,3]] + bboxes[:,[0,2]]  * mag            # Shear in the horizontal direction (to the right)\n",
    "  bboxes = pil2fastai_basis(bboxes)                                     # Convert to FASTAI image basis. Top-left (-1,-1) to Bottom-right (1,1)\n",
    "  if factor <= 0 : bboxes = flip_horizontal(bboxes)                     # If factor is negative, restore the boxes to the original orientation\n",
    "  bboxes = torch.clamp(bboxes, -1, 1)                                   # Clamp coordinates to [-1, 1]\n",
    "  bboxes = torch.cat([m, bboxes], dim=0)                                # Graft the all-zero rows back to the bounding box array    \n",
    "  if not y_first: swap_xy_coords(bboxes)                                # restore xy sequence\n",
    "  return bboxes\n"
   ]
  },
  {
   "cell_type": "code",
   "execution_count": null,
   "metadata": {},
   "outputs": [],
   "source": [
    "%nbdev_export\n",
    "# ROTATE BOUNDING BOXES\n",
    "def rotate_bboxes(bboxes:Tensor, degrees:float, y_first=True):\n",
    "  ''' \n",
    "    Rotate bounding boxes (in sync with a rotated image)\n",
    "    Input:\n",
    "        bboxes :       2-d tensor of bounding boxes in the format x1,y1,x2,y2\n",
    "        degrees :      Angle in degrees to rotate the box\n",
    "        y_first -      Input coordinates in the format y1x1y2x2\n",
    "        TODO: change this  \n",
    "    Output:\n",
    "        bboxes          2-d tensor of rotated bounding boxes\n",
    "  '''\n",
    "  rads = math.radians(degrees)                                          # Convert degrees to radians   \n",
    "  if not y_first: swap_xy_coords(bboxes)                                # swap yx sequence for xy sequence\n",
    "  m = bboxes[(bboxes == 0.).all(1)]                                     # Retain the all-zero rows of the bounding box\n",
    "  bboxes = bboxes[~(bboxes == 0.).all(1)]                               # Retain the non all-zero rows of the bounding box\n",
    "  lgt = abs(bboxes[:,[1]] - bboxes[:,[3]])                              # Calculate the length of the box in the x axis\n",
    "  mag = rads                                                            # If degrees is negative, flip the boxes about the (0,0) center\n",
    "  if degrees <= 0 : mag = -rads; bboxes = flip_horizontal(bboxes)       # so it can be rotated correctly (in the positive orientation)\n",
    "  bboxes = bboxes.reshape(-1,2).transpose(1,0)                          # Put tensor into a (n x 2) vertical array\n",
    "  bboxes = rotate_bb(bboxes, mag).transpose(0,1).reshape(-1,4)          # Rotate bounding box and restore coordinates to fastai image basis \n",
    "\n",
    "  bboxes [:,[0]] = bboxes [:,[0]] - (lgt)*math.sin(mag)                 # Calculate the delta-lenght to add and substract to \n",
    "  bboxes [:,[2]] = bboxes [:,[2]] + (lgt)*math.sin(mag)                 #   the y coordinates to compensate for the rotation\n",
    "  if degrees <= 0 : bboxes = flip_horizontal(bboxes)                    # If degrees is negative, restore the boxes to the original orientation\n",
    "  bboxes = torch.clamp(bboxes, -1, 1)                                   # Clamp coordinates to [-1, 1]\n",
    "\n",
    "  bboxes = torch.cat([m, bboxes], dim=0)                                # Graft the all-zero rows back to the bounding box array\n",
    "  if  not y_first: swap_xy_coords(bboxes)                               # Restore xy sequence\n",
    "  return bboxes"
   ]
  },
  {
   "cell_type": "markdown",
   "metadata": {},
   "source": [
    "#### Data Augmentation algorithms"
   ]
  },
  {
   "cell_type": "code",
   "execution_count": null,
   "metadata": {},
   "outputs": [],
   "source": [
    "%nbdev_export\n",
    "# ImageNet Policy\n",
    "class ImageNetPolicy():\n",
    "    '''\n",
    "    Augmentation policy for the ImageNet Dataset.\n",
    "    (According to the paper Learning Data Augmentation Strategies for Object detection. Barret Zoph, et. al. 6/26/2019)\n",
    "    The Policy is composed of a series of sub-policies. \n",
    "    Each sub-policy contains two (2) augmentation steps. i. e. 'posterize', 'rotate'\n",
    "    Each step consists of:\n",
    "          (1) an operation i.e. 'posterize', \n",
    "          (2) probability of application. i.e. 0.4, and\n",
    "          (3) magnitude indicating the intensity of the operation\n",
    "    Author:  J. Adolfo Villalobos @ 2020 \n",
    "    '''\n",
    "    def __init__(self, fillcolor=(128, 128, 128)):\n",
    "        \n",
    "        self.policy = [\n",
    "            SubPolicy(\"posterize\", 0.4, 8, \"rotate\",       0.6, 9, fillcolor),\n",
    "            SubPolicy(\"solarize\",  0.6, 5, \"autocontrast\", 0.6, 5, fillcolor),\n",
    "            SubPolicy(\"equalize\",  0.8, 8, \"equalize\",     0.6, 3, fillcolor),\n",
    "            SubPolicy(\"posterize\", 0.6, 7,\"posterize\",     0.6, 6, fillcolor),\n",
    "            SubPolicy(\"equalize\",  0.4, 7,\"solarize\",      0.2, 4, fillcolor),\n",
    "\n",
    "            SubPolicy(\"equalize\",  0.4, 4, \"rotate\",       0.8, 8, fillcolor),\n",
    "            SubPolicy(\"solarize\",  0.6, 3, \"equalize\",     0.6, 7, fillcolor),\n",
    "            SubPolicy(\"posterize\", 0.8, 5, \"equalize\",     1.0, 2, fillcolor),\n",
    "            SubPolicy(\"rotate\",    0.2, 3, \"solarize\",     0.6, 8, fillcolor),\n",
    "            SubPolicy(\"equalize\",  0.6, 8, \"posterize\",    0.4, 6, fillcolor),\n",
    "\n",
    "            SubPolicy(\"rotate\",    0.8, 8, \"color\",        0.4, 0, fillcolor),\n",
    "            SubPolicy(\"rotate\",    0.4, 9, \"equalize\",     0.6, 2, fillcolor),\n",
    "            SubPolicy(\"equalize\",  0.0, 7, \"equalize\",     0.8, 8, fillcolor),\n",
    "            SubPolicy(\"invert\",    0.6, 4, \"equalize\",     1.0, 8, fillcolor),\n",
    "            SubPolicy(\"color\",     0.6, 4, \"contrast\",     1.0, 8, fillcolor),\n",
    "\n",
    "            SubPolicy(\"rotate\",    0.8, 8, \"color\",        1.0, 2, fillcolor),\n",
    "            SubPolicy(\"color\",     0.8, 8, \"solarize\",     0.8, 7, fillcolor),\n",
    "            SubPolicy(\"sharpness\", 0.4, 7, \"invert\",       0.6, 8, fillcolor),\n",
    "            SubPolicy(\"shearX\",    0.6, 5, \"equalize\",     1.0, 9, fillcolor),\n",
    "            SubPolicy(\"color\",     0.4, 0, \"equalize\",     0.6, 3, fillcolor),\n",
    "\n",
    "            SubPolicy(\"equalize\",  0.4, 7, \"solarize\",     0.2, 4, fillcolor),\n",
    "            SubPolicy(\"solarize\",  0.6, 5, \"autocontrast\", 0.6, 5, fillcolor),\n",
    "            SubPolicy(\"invert\",    0.6, 4, \"equalize\",     1.0, 8, fillcolor),\n",
    "            SubPolicy(\"color\",     0.6, 4, \"contrast\",     1.0, 8, fillcolor),\n",
    "            SubPolicy(\"equalize\",  0.8, 8, \"equalize\",     0.6, 3, fillcolor)\n",
    "        ]\n",
    "            \n",
    "    \n",
    "    def __call__(self, x, y):\n",
    "      '''Fetch a random sub-policy'''\n",
    "      policy_idx = random.randint(0, len(self.policy) - 1)\n",
    "      return self.policy[policy_idx](x, y)\n",
    "\n",
    "    def __repr__(self):\n",
    "        return \"AutoAugment Policy Applicable to the ImageNet Dataset. \"    "
   ]
  },
  {
   "cell_type": "code",
   "execution_count": null,
   "metadata": {},
   "outputs": [],
   "source": [
    "%nbdev_export\n",
    "class SubPolicy():\n",
    "    def __init__(self, operation1, p1, magnitude_idx1, operation2, p2, magnitude_idx2, fillcolor=(128, 128, 128)):\n",
    "        '''\n",
    "        The magnitude that is specified for each subpolicy item is a number from 1 to 10.\n",
    "        This number translates to a separate measure which varies for each operation. The specific measure\n",
    "        is picked up from a range of uniformly spaced physical attribute values according to the dictionary below.\n",
    "        '''\n",
    "        ranges = {\n",
    "            \"shearX\": np.linspace(-0.3, 0.3, 10),     \n",
    "            \"shearY\": np.linspace(-0.3, 0.3, 10),     \n",
    "            \"translateX\": np.linspace(-150, 150 / 331, 10),\n",
    "            \"rotate\": np.linspace(-30, 30, 10),        \n",
    "            \"color\": np.linspace(0.1, 1.9, 10),\n",
    "            \"posterize\": np.round(np.linspace(8, 4, 10), 0).astype(np.int),\n",
    "            \"solarize\": np.linspace(256, 0, 10),\n",
    "            \"contrast\": np.linspace(0.1, 1.9, 10),\n",
    "            \"sharpness\": np.linspace(0.1, 1.9, 10),\n",
    "            \"brightness\": np.linspace(0.1, 1.9, 10),\n",
    "            \"autocontrast\": [0] * 10,\n",
    "            \"equalize\": [0] * 10,\n",
    "            \"invert\": [0] * 10\n",
    "        }\n",
    "       \n",
    "        # Custom rotate with fill       \n",
    "        def rotate_with_fill(img:PILImage, yb, mag):\n",
    "            ob = rotate_bboxes(yb, mag, y_first=False)\n",
    "            #rot = img.convert(\"RGBA\").rotate(mag,fillcolor=(128,128,128))    # Rotate the image\n",
    "            #return [Image.composite(rot, Image.new(\"RGBA\", rot.size, (128,) * 4), rot).convert(img.mode), ob]\n",
    "            return [img.convert(\"RGBA\").rotate(mag, resample=Image.BICUBIC, fillcolor=(128,128,128)).convert(img.mode), ob]    # Rotate the image\n",
    "\n",
    "        def shear_horizontal (img:PILImage, yb, mag): \n",
    "            trb = mag*random.choice([-1, 1])\n",
    "            tri = (1, -trb, 0, 0, 1, 0)\n",
    "            b_tf = img.transform(img.size, Image.AFFINE, tri, Image.BICUBIC,fillcolor=(128,128,128) )\n",
    "            ob = shear_x_bboxes (yb, trb, y_first=False)                 \n",
    "            return [b_tf, ob]\n",
    "\n",
    "        # Transform functions\n",
    "        func = {\n",
    "\n",
    "            \"rotate\": lambda img, yp, magnitude: rotate_with_fill(img, yp, magnitude),\n",
    "            \"shearX\": lambda img, yp, magnitude: shear_horizontal(img, yp, magnitude), \n",
    "            \"color\": lambda img, yp, magnitude: [ImageEnhance.Color(img).enhance(magnitude), yp],\n",
    "            \"posterize\": lambda img, yp, magnitude: [ImageOps.posterize(img, magnitude), yp],\n",
    "            \"solarize\": lambda img, yp, magnitude: [ImageOps.solarize(img, magnitude), yp],\n",
    "            \"contrast\": lambda img, yp, magnitude: [ImageEnhance.Contrast(img).enhance(\n",
    "                1 + magnitude * random.choice([-1, 1])), yp],\n",
    "            \"sharpness\": lambda img, yp, magnitude: [ImageEnhance.Sharpness(img).enhance(\n",
    "                1 + magnitude * random.choice([-1, 1])), yp],\n",
    "            \"brightness\": lambda img, yp, magnitude: [ImageEnhance.Brightness(img).enhance(\n",
    "                1 + magnitude * random.choice([-1, 1])), yp],\n",
    "            \"autocontrast\": lambda img, yp, magnitude: [ImageOps.autocontrast(img), yp],\n",
    "            \"equalize\": lambda img, yp, magnitude: [ImageOps.equalize(img, mask=None), yp],\n",
    "            \"invert\": lambda img, yp, magnitude: [ImageOps.invert(img), yp]\n",
    "        }\n",
    "        \n",
    "        # Probabilities\n",
    "        self.p1 = p1; self.p2 = p2\n",
    "        \n",
    "        #  Fetch a Fastai transform corresponding to the given subpolicy step operation\n",
    "        self.operation1 = func[operation1]; self.operation2 = func[operation2]\n",
    "        self.magnitude1 = ranges[operation1][magnitude_idx1]; self.magnitude2 = ranges[operation2][magnitude_idx2]\n",
    "        \n",
    "    # Randomized filtering\n",
    "    def __call__(self, x, y):       \n",
    "         # Tensor to PIL image\n",
    "        img = FT.to_pil_image(x.data.cpu(), mode='RGB')     \n",
    "        # Fetch a Fastai-formatted transform corresponnding to the given Subpolicy\n",
    "        if random.random() < self.p1: img, y = self.operation1(img, y, self.magnitude1)\n",
    "        if random.random() < self.p2: img, y = self.operation2(img, y, self.magnitude2)\n",
    "        img = pil2tensor(img, dtype=np.float32) #.div(255)  Revert to FASTAI Image format   \n",
    "        return img, y      # returns the transformed image and    corresponding bounding boxes"
   ]
  },
  {
   "cell_type": "code",
   "execution_count": null,
   "metadata": {},
   "outputs": [
    {
     "name": "stdout",
     "output_type": "stream",
     "text": [
      "Converted 00_core.ipynb.\n",
      "Converted 00_vision_core.ipynb.\n",
      "Converted 01_anchor_boxes.ipynb.\n",
      "Converted 02_inference.ipynb.\n",
      "Converted 03_auto_augment.ipynb.\n",
      "Converted index.ipynb.\n"
     ]
    }
   ],
   "source": [
    "%nbdev_hide\n",
    "from nbdev.export import notebook2script\n",
    "notebook2script()"
   ]
  },
  {
   "cell_type": "code",
   "execution_count": null,
   "metadata": {},
   "outputs": [
    {
     "data": {
      "text/markdown": "<h4 id=\"rotate_bboxes\" class=\"doc_header\"><code>rotate_bboxes</code><a href=\"__main__.py#L3\" class=\"source_link\" style=\"float:right\">[source]</a></h4>\n\n> <code>rotate_bboxes</code>(**`bboxes`**:`Tensor`, **`degrees`**:`float`, **`y_first`**=*`True`*)\n\nRotate bounding boxes (in sync with a rotated image)\nInput:\n    bboxes :       2-d tensor of bounding boxes in the format x1,y1,x2,y2\n    degrees :      Angle in degrees to rotate the box\n    y_first -      Input coordinates in the format y1x1y2x2\n    TODO: change this  \nOutput:\n    bboxes          2-d tensor of rotated bounding boxes",
      "text/plain": [
       "<IPython.core.display.Markdown object>"
      ]
     },
     "metadata": {
      "tags": []
     },
     "output_type": "display_data"
    },
    {
     "data": {
      "text/markdown": "<h4 id=\"shear_x_bboxes\" class=\"doc_header\"><code>shear_x_bboxes</code><a href=\"__main__.py#L3\" class=\"source_link\" style=\"float:right\">[source]</a></h4>\n\n> <code>shear_x_bboxes</code>(**`bboxes`**:`Tensor`, **`factor`**:`float`, **`y_first`**=*`True`*)\n\nShear horizontally a tensor of bounding boxes\nInput:      \n      bboxes  -      2-d tensor of bounding boxes associated with the image\n      factor  -      Factor by which the image in sheared in the horizontal direction\n      y_first -      Input coordinates in the format y1x1y2x2\n      TODO: change this\nOutput:\n      bboxes -       Sheared bounding boxes",
      "text/plain": [
       "<IPython.core.display.Markdown object>"
      ]
     },
     "metadata": {
      "tags": []
     },
     "output_type": "display_data"
    },
    {
     "data": {
      "text/markdown": "<h4 id=\"rotate_bb\" class=\"doc_header\"><code>rotate_bb</code><a href=\"__main__.py#L2\" class=\"source_link\" style=\"float:right\">[source]</a></h4>\n\n> <code>rotate_bb</code>(**`bb`**, **`rads`**)\n\nRotate a bounding box (x1,y1,x2,y2) by an angle \nInput:  bb -   bounding box\n        rads - rotation angle in radians ",
      "text/plain": [
       "<IPython.core.display.Markdown object>"
      ]
     },
     "metadata": {
      "tags": []
     },
     "output_type": "display_data"
    },
    {
     "data": {
      "text/markdown": "<h4 id=\"swap_xy_coords\" class=\"doc_header\"><code>swap_xy_coords</code><a href=\"__main__.py#L2\" class=\"source_link\" style=\"float:right\">[source]</a></h4>\n\n> <code>swap_xy_coords</code>(**`bboxes`**)\n\nswap yx coordinate sequences in bounding boxes into xy sequences, and viceversa \nInput:    bboxes - 2-d tensor containing bounding boxes\nOutput:   Bounding boxes flipped with swapped coordinate, xy --> yx",
      "text/plain": [
       "<IPython.core.display.Markdown object>"
      ]
     },
     "metadata": {
      "tags": []
     },
     "output_type": "display_data"
    },
    {
     "data": {
      "text/markdown": "<h4 id=\"flip_horizontal\" class=\"doc_header\"><code>flip_horizontal</code><a href=\"__main__.py#L2\" class=\"source_link\" style=\"float:right\">[source]</a></h4>\n\n> <code>flip_horizontal</code>(**`bboxes`**)\n\nFlips a bounding box tensor along the vertical axis \nInput:    bboxes - 2-d tensor containing bounding boxes\nOutput:   Bounding boxes flipped along the vertical axis",
      "text/plain": [
       "<IPython.core.display.Markdown object>"
      ]
     },
     "metadata": {
      "tags": []
     },
     "output_type": "display_data"
    },
    {
     "data": {
      "text/markdown": "<h4 id=\"rotate_bboxes\" class=\"doc_header\"><code>rotate_bboxes</code><a href=\"__main__.py#L3\" class=\"source_link\" style=\"float:right\">[source]</a></h4>\n\n> <code>rotate_bboxes</code>(**`bboxes`**:`Tensor`, **`degrees`**:`float`, **`y_first`**=*`True`*)\n\nRotate bounding boxes (in sync with a rotated image)\nInput:\n    bboxes :       2-d tensor of bounding boxes in the format x1,y1,x2,y2\n    degrees :      Angle in degrees to rotate the box\n    y_first -      Input coordinates in the format y1x1y2x2\n    TODO: change this  \nOutput:\n    bboxes          2-d tensor of rotated bounding boxes",
      "text/plain": [
       "<IPython.core.display.Markdown object>"
      ]
     },
     "metadata": {
      "tags": []
     },
     "output_type": "display_data"
    },
    {
     "data": {
      "text/markdown": "<h4 id=\"rotate_bboxes\" class=\"doc_header\"><code>rotate_bboxes</code><a href=\"__main__.py#L3\" class=\"source_link\" style=\"float:right\">[source]</a></h4>\n\n> <code>rotate_bboxes</code>(**`bboxes`**:`Tensor`, **`degrees`**:`float`, **`y_first`**=*`True`*)\n\nRotate bounding boxes (in sync with a rotated image)\nInput:\n    bboxes :       2-d tensor of bounding boxes in the format x1,y1,x2,y2\n    degrees :      Angle in degrees to rotate the box\n    y_first -      Input coordinates in the format y1x1y2x2\n    TODO: change this  \nOutput:\n    bboxes          2-d tensor of rotated bounding boxes",
      "text/plain": [
       "<IPython.core.display.Markdown object>"
      ]
     },
     "metadata": {
      "tags": []
     },
     "output_type": "display_data"
    },
    {
     "data": {
      "text/markdown": "<h4 id=\"rotate_bboxes\" class=\"doc_header\"><code>rotate_bboxes</code><a href=\"__main__.py#L3\" class=\"source_link\" style=\"float:right\">[source]</a></h4>\n\n> <code>rotate_bboxes</code>(**`bboxes`**:`Tensor`, **`degrees`**:`float`, **`y_first`**=*`True`*)\n\nRotate bounding boxes (in sync with a rotated image)\nInput:\n    bboxes :       2-d tensor of bounding boxes in the format x1,y1,x2,y2\n    degrees :      Angle in degrees to rotate the box\n    y_first -      Input coordinates in the format y1x1y2x2\n    TODO: change this  \nOutput:\n    bboxes          2-d tensor of rotated bounding boxes",
      "text/plain": [
       "<IPython.core.display.Markdown object>"
      ]
     },
     "metadata": {
      "tags": []
     },
     "output_type": "display_data"
    }
   ],
   "source": [
    "from nbdev import *\n",
    "show_doc(rotate_bboxes)\n",
    "show_doc(shear_x_bboxes)\n",
    "show_doc(rotate_bb)\n",
    "show_doc(swap_xy_coords)\n",
    "show_doc(flip_horizontal)\n",
    "show_doc(rotate_bboxes)\n",
    "show_doc(rotate_bboxes)\n",
    "show_doc(rotate_bboxes)"
   ]
  }
 ],
 "metadata": {
  "kernelspec": {
   "display_name": "Python 3",
   "name": "python3"
  }
 },
 "nbformat": 4,
 "nbformat_minor": 0
}
