{
 "cells": [
  {
   "cell_type": "code",
   "execution_count": null,
   "metadata": {},
   "outputs": [
    {
     "name": "stdout",
     "output_type": "stream",
     "text": [
      "The autoreload extension is already loaded. To reload it, use:\n",
      "  %reload_ext autoreload\n"
     ]
    }
   ],
   "source": [
    "%load_ext autoreload\n",
    "%autoreload 2"
   ]
  },
  {
   "cell_type": "code",
   "execution_count": null,
   "metadata": {},
   "outputs": [],
   "source": [
    "IN_COLAB = 'google.colab' in str(get_ipython())\n",
    "if IN_COLAB:\n",
    "  !pip install git+https://github.com/pete88b/nbdev_colab_helper.git\n",
    "  from nbdev_colab_helper.core import *\n",
    "  project_name = 'nextai'\n",
    "  init_notebook(project_name)"
   ]
  },
  {
   "cell_type": "markdown",
   "metadata": {},
   "source": [
    " # auto_agument\n",
    "\n",
    "> Implements Google AutoAugment augmentations.\n",
    " "
   ]
  },
  {
   "cell_type": "code",
   "execution_count": null,
   "metadata": {},
   "outputs": [],
   "source": [
    "#default_exp auto_augment"
   ]
  },
  {
   "cell_type": "code",
   "execution_count": null,
   "metadata": {},
   "outputs": [
    {
     "name": "stdout",
     "output_type": "stream",
     "text": [
      "\u001b[?25l\r\u001b[K     |█                               | 10kB 20.9MB/s eta 0:00:01\r\u001b[K     |█▉                              | 20kB 1.6MB/s eta 0:00:01\r\u001b[K     |██▊                             | 30kB 2.1MB/s eta 0:00:01\r\u001b[K     |███▊                            | 40kB 1.7MB/s eta 0:00:01\r\u001b[K     |████▋                           | 51kB 2.0MB/s eta 0:00:01\r\u001b[K     |█████▌                          | 61kB 2.2MB/s eta 0:00:01\r\u001b[K     |██████▌                         | 71kB 2.4MB/s eta 0:00:01\r\u001b[K     |███████▍                        | 81kB 2.5MB/s eta 0:00:01\r\u001b[K     |████████▎                       | 92kB 2.6MB/s eta 0:00:01\r\u001b[K     |█████████▎                      | 102kB 2.7MB/s eta 0:00:01\r\u001b[K     |██████████▏                     | 112kB 2.7MB/s eta 0:00:01\r\u001b[K     |███████████                     | 122kB 2.7MB/s eta 0:00:01\r\u001b[K     |████████████                    | 133kB 2.7MB/s eta 0:00:01\r\u001b[K     |█████████████                   | 143kB 2.7MB/s eta 0:00:01\r\u001b[K     |█████████████▉                  | 153kB 2.7MB/s eta 0:00:01\r\u001b[K     |██████████████▊                 | 163kB 2.7MB/s eta 0:00:01\r\u001b[K     |███████████████▊                | 174kB 2.7MB/s eta 0:00:01\r\u001b[K     |████████████████▋               | 184kB 2.7MB/s eta 0:00:01\r\u001b[K     |█████████████████▌              | 194kB 2.7MB/s eta 0:00:01\r\u001b[K     |██████████████████▌             | 204kB 2.7MB/s eta 0:00:01\r\u001b[K     |███████████████████▍            | 215kB 2.7MB/s eta 0:00:01\r\u001b[K     |████████████████████▎           | 225kB 2.7MB/s eta 0:00:01\r\u001b[K     |█████████████████████▏          | 235kB 2.7MB/s eta 0:00:01\r\u001b[K     |██████████████████████▏         | 245kB 2.7MB/s eta 0:00:01\r\u001b[K     |███████████████████████         | 256kB 2.7MB/s eta 0:00:01\r\u001b[K     |████████████████████████        | 266kB 2.7MB/s eta 0:00:01\r\u001b[K     |█████████████████████████       | 276kB 2.7MB/s eta 0:00:01\r\u001b[K     |█████████████████████████▉      | 286kB 2.7MB/s eta 0:00:01\r\u001b[K     |██████████████████████████▊     | 296kB 2.7MB/s eta 0:00:01\r\u001b[K     |███████████████████████████▊    | 307kB 2.7MB/s eta 0:00:01\r\u001b[K     |████████████████████████████▋   | 317kB 2.7MB/s eta 0:00:01\r\u001b[K     |█████████████████████████████▌  | 327kB 2.7MB/s eta 0:00:01\r\u001b[K     |██████████████████████████████▍ | 337kB 2.7MB/s eta 0:00:01\r\u001b[K     |███████████████████████████████▍| 348kB 2.7MB/s eta 0:00:01\r\u001b[K     |████████████████████████████████| 358kB 2.7MB/s \n",
      "\u001b[?25h"
     ]
    }
   ],
   "source": [
    "#hide\n",
    "!pip install fastai --upgrade --quiet"
   ]
  },
  {
   "cell_type": "code",
   "execution_count": null,
   "metadata": {},
   "outputs": [],
   "source": [
    "%nbdev_export\n",
    "from torch import tensor, Tensor\n",
    "import torch"
   ]
  },
  {
   "cell_type": "code",
   "execution_count": null,
   "metadata": {},
   "outputs": [],
   "source": [
    "%nbdev_export\n",
    "# Automatically sets for GPU or CPU environments\n",
    "device = torch.device('cuda' if torch.cuda.is_available() else 'cpu') "
   ]
  },
  {
   "cell_type": "markdown",
   "metadata": {},
   "source": [
    "#### Helper functions"
   ]
  },
  {
   "cell_type": "code",
   "execution_count": null,
   "metadata": {},
   "outputs": [],
   "source": [
    "%nbdev_export\n",
    "# Convert FASTAI image basis. (-1,-1) to (1,1)  to PIL image basis (0,0) to (1,1)    \n",
    "def fastai2pil_basis(b) :  return ((b + 1.)).div(2.)      # b - Bounding box(s)     "
   ]
  },
  {
   "cell_type": "code",
   "execution_count": null,
   "metadata": {},
   "outputs": [],
   "source": [
    "%nbdev_export\n",
    "# Convert PIL image basis (0,0) to (1,1) to FASTAI image basis. (-1,-1) to (1,1) \n",
    "def pil2fastai_basis(b):  return (b * 2.).float() - 1.    # b - Bounding box(s)   "
   ]
  },
  {
   "cell_type": "code",
   "execution_count": null,
   "metadata": {},
   "outputs": [],
   "source": [
    "%nbdev_export\n",
    "def flip_horizontal(bboxes): \n",
    "  ''' \n",
    "    Flips a bounding box tensor along the vertical axis \n",
    "    Input:    bboxes - 2-d tensor containing bounding boxes\n",
    "    Output:   Bounding boxes flipped along the vertical axis\n",
    "  '''\n",
    "  bboxes[:,[1,3]] = torch.flip(bboxes[:,[1,3]], [1])      # Swap the (x) columns: 1, and 3\n",
    "  bboxes[:,[1, 3]] *= -1;                                 #   Flip the sign of each of these columns\n",
    "  return bboxes"
   ]
  },
  {
   "cell_type": "code",
   "execution_count": null,
   "metadata": {},
   "outputs": [],
   "source": [
    "%nbdev_export\n",
    "def swap_xy_coords (bboxes):   \n",
    "  ''' swap yx coordinate sequences in bounding boxes into xy sequences, and viceversa \n",
    "      Input:    bboxes - 2-d tensor containing bounding boxes\n",
    "      Output:   Bounding boxes flipped with swapped coordinate, xy --> yx\n",
    "  '''\n",
    "  bboxes[:,[0,1]] = torch.flip(bboxes[:,[0,1]], [1]) \n",
    "  bboxes[:,[2,3]] = torch.flip(bboxes[:,[2,3]], [1])\n",
    "  return bboxes\n"
   ]
  },
  {
   "cell_type": "code",
   "execution_count": null,
   "metadata": {},
   "outputs": [],
   "source": [
    "%nbdev_export\n",
    "def rotate_bb(bb, rads): \n",
    "    ''' Rotate a bounding box (x1,y1,x2,y2) by an angle \n",
    "        Input:  bb -   bounding box\n",
    "                rads - rotation angle in radians \n",
    "        '''           \n",
    "    M = torch.tensor([                         # Rotation Matrix\n",
    "           [math.cos(rads), -math.sin(rads)],         \n",
    "           [math.sin(rads),  math.cos(rads)]\n",
    "           ] ).to(device)           \n",
    "    return torch.mm(M, bb.to(device))           #   \n"
   ]
  },
  {
   "cell_type": "markdown",
   "metadata": {},
   "source": [
    "#### Bounding Box transformations"
   ]
  },
  {
   "cell_type": "code",
   "execution_count": null,
   "metadata": {},
   "outputs": [],
   "source": [
    "%nbdev_export\n",
    "# SHEAR-HORIZONTALLY BOUNDING BOXES\n",
    "def shear_x_bboxes (bboxes:Tensor, factor:float, y_first=True):\n",
    "  ''' \n",
    "    Shear horizontally a tensor of bounding boxes\n",
    "    Input:      \n",
    "          bboxes  -      2-d tensor of bounding boxes associated with the image\n",
    "          factor  -      Factor by which the image in sheared in the horizontal direction\n",
    "          y_first -      Input coordinates in the format y1x1y2x2\n",
    "          TODO: change this\n",
    "    Output:\n",
    "          bboxes -       Sheared bounding boxes\n",
    "  '''\n",
    "  if not y_first: swap_xy_coords(bboxes)                                # swap yx sequence for xy sequence\n",
    "  m = bboxes[(bboxes == 0.).all(1)]                                     # Retain the all-zero rows\n",
    "  bboxes = bboxes[~(bboxes == 0.).all(1)]                               # Retain the non all-zero rows\n",
    "  mag = factor                                                          # If the factor is negative, flip the boxes about the (0,0) center\n",
    "  if factor <= 0 : mag = -factor; bboxes = flip_horizontal(bboxes)      # so it can be sheared correctly (in the positive orientation)\n",
    "  bboxes = fastai2pil_basis(bboxes)                                     # Convert to PIL image basis (0,0) to (1,1)       \n",
    "  bboxes[:,[1,3]] = bboxes[:,[1,3]] + bboxes[:,[0,2]]  * mag            # Shear in the horizontal direction (to the right)\n",
    "  bboxes = pil2fastai_basis(bboxes)                                     # Convert to FASTAI image basis. Top-left (-1,-1) to Bottom-right (1,1)\n",
    "  if factor <= 0 : bboxes = flip_horizontal(bboxes)                     # If factor is negative, restore the boxes to the original orientation\n",
    "  bboxes = torch.clamp(bboxes, -1, 1)                                   # Clamp coordinates to [-1, 1]\n",
    "  bboxes = torch.cat([m, bboxes], dim=0)                                # Graft the all-zero rows back to the bounding box array    \n",
    "  if not y_first: swap_xy_coords(bboxes)                                # restore xy sequence\n",
    "  return bboxes\n"
   ]
  },
  {
   "cell_type": "code",
   "execution_count": null,
   "metadata": {},
   "outputs": [],
   "source": [
    "%nbdev_export\n",
    "# ROTATE BOUNDING BOXES\n",
    "def rotate_bboxes(bboxes:Tensor, degrees:float, y_first=True):\n",
    "  ''' \n",
    "    Rotate bounding boxes (in sync with a rotated image)\n",
    "    Input:\n",
    "        bboxes :       2-d tensor of bounding boxes in the format x1,y1,x2,y2\n",
    "        degrees :      Angle in degrees to rotate the box\n",
    "        y_first -      Input coordinates in the format y1x1y2x2\n",
    "        TODO: change this  \n",
    "    Output:\n",
    "        bboxes          2-d tensor of rotated bounding boxes\n",
    "  '''\n",
    "  rads = math.radians(degrees)                                          # Convert degrees to radians   \n",
    "  if not y_first: swap_xy_coords(bboxes)                                # swap yx sequence for xy sequence\n",
    "  m = bboxes[(bboxes == 0.).all(1)]                                     # Retain the all-zero rows of the bounding box\n",
    "  bboxes = bboxes[~(bboxes == 0.).all(1)]                               # Retain the non all-zero rows of the bounding box\n",
    "  lgt = abs(bboxes[:,[1]] - bboxes[:,[3]])                              # Calculate the length of the box in the x axis\n",
    "  mag = rads                                                            # If degrees is negative, flip the boxes about the (0,0) center\n",
    "  if degrees <= 0 : mag = -rads; bboxes = flip_horizontal(bboxes)       # so it can be rotated correctly (in the positive orientation)\n",
    "  bboxes = bboxes.reshape(-1,2).transpose(1,0)                          # Put tensor into a (n x 2) vertical array\n",
    "  bboxes = rotate_bb(bboxes, mag).transpose(0,1).reshape(-1,4)          # Rotate bounding box and restore coordinates to fastai image basis \n",
    "\n",
    "  bboxes [:,[0]] = bboxes [:,[0]] - (lgt)*math.sin(mag)                 # Calculate the delta-lenght to add and substract to \n",
    "  bboxes [:,[2]] = bboxes [:,[2]] + (lgt)*math.sin(mag)                 #   the y coordinates to compensate for the rotation\n",
    "  if degrees <= 0 : bboxes = flip_horizontal(bboxes)                    # If degrees is negative, restore the boxes to the original orientation\n",
    "  bboxes = torch.clamp(bboxes, -1, 1)                                   # Clamp coordinates to [-1, 1]\n",
    "\n",
    "  bboxes = torch.cat([m, bboxes], dim=0)                                # Graft the all-zero rows back to the bounding box array\n",
    "  if  not y_first: swap_xy_coords(bboxes)                               # Restore xy sequence\n",
    "  return bboxes"
   ]
  },
  {
   "cell_type": "markdown",
   "metadata": {},
   "source": [
    "#### Data Augmentation algorithms"
   ]
  },
  {
   "cell_type": "code",
   "execution_count": null,
   "metadata": {},
   "outputs": [],
   "source": [
    ""
   ]
  },
  {
   "cell_type": "code",
   "execution_count": null,
   "metadata": {},
   "outputs": [],
   "source": [
    ""
   ]
  },
  {
   "cell_type": "code",
   "execution_count": null,
   "metadata": {},
   "outputs": [],
   "source": [
    ""
   ]
  },
  {
   "cell_type": "code",
   "execution_count": null,
   "metadata": {},
   "outputs": [
    {
     "data": {
      "text/markdown": "<h4 id=\"rotate_bboxes\" class=\"doc_header\"><code>rotate_bboxes</code><a href=\"__main__.py#L3\" class=\"source_link\" style=\"float:right\">[source]</a></h4>\n\n> <code>rotate_bboxes</code>(**`bboxes`**:`Tensor`, **`degrees`**:`float`, **`y_first`**=*`True`*)\n\nRotate bounding boxes (in sync with a rotated image)\nInput:\n    bboxes :       2-d tensor of bounding boxes in the format x1,y1,x2,y2\n    degrees :      Angle in degrees to rotate the box\n    y_first -      Input coordinates in the format y1x1y2x2\n    TODO: change this  \nOutput:\n    bboxes          2-d tensor of rotated bounding boxes",
      "text/plain": [
       "<IPython.core.display.Markdown object>"
      ]
     },
     "metadata": {
      "tags": []
     },
     "output_type": "display_data"
    },
    {
     "data": {
      "text/markdown": "<h4 id=\"shear_x_bboxes\" class=\"doc_header\"><code>shear_x_bboxes</code><a href=\"__main__.py#L3\" class=\"source_link\" style=\"float:right\">[source]</a></h4>\n\n> <code>shear_x_bboxes</code>(**`bboxes`**:`Tensor`, **`factor`**:`float`, **`y_first`**=*`True`*)\n\nShear horizontally a tensor of bounding boxes\nInput:      \n      bboxes  -      2-d tensor of bounding boxes associated with the image\n      factor  -      Factor by which the image in sheared in the horizontal direction\n      y_first -      Input coordinates in the format y1x1y2x2\n      TODO: change this\nOutput:\n      bboxes -       Sheared bounding boxes",
      "text/plain": [
       "<IPython.core.display.Markdown object>"
      ]
     },
     "metadata": {
      "tags": []
     },
     "output_type": "display_data"
    },
    {
     "data": {
      "text/markdown": "<h4 id=\"rotate_bb\" class=\"doc_header\"><code>rotate_bb</code><a href=\"__main__.py#L2\" class=\"source_link\" style=\"float:right\">[source]</a></h4>\n\n> <code>rotate_bb</code>(**`bb`**, **`rads`**)\n\nRotate a bounding box (x1,y1,x2,y2) by an angle \nInput:  bb -   bounding box\n        rads - rotation angle in radians ",
      "text/plain": [
       "<IPython.core.display.Markdown object>"
      ]
     },
     "metadata": {
      "tags": []
     },
     "output_type": "display_data"
    },
    {
     "data": {
      "text/markdown": "<h4 id=\"swap_xy_coords\" class=\"doc_header\"><code>swap_xy_coords</code><a href=\"__main__.py#L2\" class=\"source_link\" style=\"float:right\">[source]</a></h4>\n\n> <code>swap_xy_coords</code>(**`bboxes`**)\n\nswap yx coordinate sequences in bounding boxes into xy sequences, and viceversa \nInput:    bboxes - 2-d tensor containing bounding boxes\nOutput:   Bounding boxes flipped with swapped coordinate, xy --> yx",
      "text/plain": [
       "<IPython.core.display.Markdown object>"
      ]
     },
     "metadata": {
      "tags": []
     },
     "output_type": "display_data"
    },
    {
     "data": {
      "text/markdown": "<h4 id=\"flip_horizontal\" class=\"doc_header\"><code>flip_horizontal</code><a href=\"__main__.py#L2\" class=\"source_link\" style=\"float:right\">[source]</a></h4>\n\n> <code>flip_horizontal</code>(**`bboxes`**)\n\nFlips a bounding box tensor along the vertical axis \nInput:    bboxes - 2-d tensor containing bounding boxes\nOutput:   Bounding boxes flipped along the vertical axis",
      "text/plain": [
       "<IPython.core.display.Markdown object>"
      ]
     },
     "metadata": {
      "tags": []
     },
     "output_type": "display_data"
    },
    {
     "data": {
      "text/markdown": "<h4 id=\"rotate_bboxes\" class=\"doc_header\"><code>rotate_bboxes</code><a href=\"__main__.py#L3\" class=\"source_link\" style=\"float:right\">[source]</a></h4>\n\n> <code>rotate_bboxes</code>(**`bboxes`**:`Tensor`, **`degrees`**:`float`, **`y_first`**=*`True`*)\n\nRotate bounding boxes (in sync with a rotated image)\nInput:\n    bboxes :       2-d tensor of bounding boxes in the format x1,y1,x2,y2\n    degrees :      Angle in degrees to rotate the box\n    y_first -      Input coordinates in the format y1x1y2x2\n    TODO: change this  \nOutput:\n    bboxes          2-d tensor of rotated bounding boxes",
      "text/plain": [
       "<IPython.core.display.Markdown object>"
      ]
     },
     "metadata": {
      "tags": []
     },
     "output_type": "display_data"
    },
    {
     "data": {
      "text/markdown": "<h4 id=\"rotate_bboxes\" class=\"doc_header\"><code>rotate_bboxes</code><a href=\"__main__.py#L3\" class=\"source_link\" style=\"float:right\">[source]</a></h4>\n\n> <code>rotate_bboxes</code>(**`bboxes`**:`Tensor`, **`degrees`**:`float`, **`y_first`**=*`True`*)\n\nRotate bounding boxes (in sync with a rotated image)\nInput:\n    bboxes :       2-d tensor of bounding boxes in the format x1,y1,x2,y2\n    degrees :      Angle in degrees to rotate the box\n    y_first -      Input coordinates in the format y1x1y2x2\n    TODO: change this  \nOutput:\n    bboxes          2-d tensor of rotated bounding boxes",
      "text/plain": [
       "<IPython.core.display.Markdown object>"
      ]
     },
     "metadata": {
      "tags": []
     },
     "output_type": "display_data"
    },
    {
     "data": {
      "text/markdown": "<h4 id=\"rotate_bboxes\" class=\"doc_header\"><code>rotate_bboxes</code><a href=\"__main__.py#L3\" class=\"source_link\" style=\"float:right\">[source]</a></h4>\n\n> <code>rotate_bboxes</code>(**`bboxes`**:`Tensor`, **`degrees`**:`float`, **`y_first`**=*`True`*)\n\nRotate bounding boxes (in sync with a rotated image)\nInput:\n    bboxes :       2-d tensor of bounding boxes in the format x1,y1,x2,y2\n    degrees :      Angle in degrees to rotate the box\n    y_first -      Input coordinates in the format y1x1y2x2\n    TODO: change this  \nOutput:\n    bboxes          2-d tensor of rotated bounding boxes",
      "text/plain": [
       "<IPython.core.display.Markdown object>"
      ]
     },
     "metadata": {
      "tags": []
     },
     "output_type": "display_data"
    }
   ],
   "source": [
    "from nbdev import *\n",
    "show_doc(rotate_bboxes)\n",
    "show_doc(shear_x_bboxes)\n",
    "show_doc(rotate_bb)\n",
    "show_doc(swap_xy_coords)\n",
    "show_doc(flip_horizontal)\n",
    "show_doc(rotate_bboxes)\n",
    "show_doc(rotate_bboxes)\n",
    "show_doc(rotate_bboxes)"
   ]
  }
 ],
 "metadata": {
  "kernelspec": {
   "display_name": "Python 3",
   "name": "python3"
  }
 },
 "nbformat": 4,
 "nbformat_minor": 0
}
