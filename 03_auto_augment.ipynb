{
 "cells": [
  {
   "cell_type": "code",
   "execution_count": null,
   "metadata": {},
   "outputs": [
    {
     "name": "stdout",
     "output_type": "stream",
     "text": [
      "Collecting git+https://github.com/pete88b/nbdev_colab_helper.git\n",
      "  Cloning https://github.com/pete88b/nbdev_colab_helper.git to /tmp/pip-req-build-zalje2zh\n",
      "  Running command git clone -q https://github.com/pete88b/nbdev_colab_helper.git /tmp/pip-req-build-zalje2zh\n",
      "Building wheels for collected packages: nbdev-colab-helper\n",
      "  Building wheel for nbdev-colab-helper (setup.py) ... \u001b[?25l\u001b[?25hdone\n",
      "  Created wheel for nbdev-colab-helper: filename=nbdev_colab_helper-0.0.1-cp36-none-any.whl size=9648 sha256=477ff4d72399e06e0f1117b9aacd16a64f33077c379b8dafe4b324f85730f706\n",
      "  Stored in directory: /tmp/pip-ephem-wheel-cache-nbms6bfy/wheels/11/52/f4/a49fbdda142e8992bb1695aa9eb30f499294a14cfb4b753fbe\n",
      "Successfully built nbdev-colab-helper\n",
      "Installing collected packages: nbdev-colab-helper\n",
      "Successfully installed nbdev-colab-helper-0.0.1\n",
      "Connecting to google drive\n",
      "Mounted at /content/drive\n",
      "/content/drive/My Drive/Colab Notebooks/github/nextai\n",
      "pip install git+https://github.com/fastai/nbdev.git\n",
      "   Collecting git+https://github.com/fastai/nbdev.git\n",
      "  Cloning https://github.com/fastai/nbdev.git to /tmp/pip-req-build-q3qyez7r\n",
      "Requirement already satisfied: pip in /usr/local/lib/python3.6/dist-packages (from nbdev==1.0.19) (19.3.1)\n",
      "Requirement already satisfied: packaging in /usr/local/lib/python3.6/dist-packages (from nbdev==1.0.19) (20.4)\n",
      "Collecting fastcore>=1.0.10\n",
      "  Downloading https://files.pythonhosted.org/packages/9e/09/3e8318f521147e11c89ec6018db3602e3e6b781d058ad8e91748e5e86507/fastcore-1.0.13-py3-none-any.whl (40kB)\n",
      "Requirement already satisfied: nbformat>=4.4.0 in /usr/local/lib/python3.6/dist-packages (from nbdev==1.0.19) (5.0.7)\n",
      "Requirement already satisfied: nbconvert<6 in /usr/local/lib/python3.6/dist-packages (from nbdev==1.0.19) (5.6.1)\n",
      "Requirement already satisfied: pyyaml in /usr/local/lib/python3.6/dist-packages (from nbdev==1.0.19) (3.13)\n",
      "Requirement already satisfied: jupyter_client in /usr/local/lib/python3.6/dist-packages (from nbdev==1.0.19) (5.3.5)\n",
      "Requirement already satisfied: ipykernel in /usr/local/lib/python3.6/dist-packages (from nbdev==1.0.19) (4.10.1)\n",
      "Requirement already satisfied: six in /usr/local/lib/python3.6/dist-packages (from packaging->nbdev==1.0.19) (1.15.0)\n",
      "Requirement already satisfied: pyparsing>=2.0.2 in /usr/local/lib/python3.6/dist-packages (from packaging->nbdev==1.0.19) (2.4.7)\n",
      "Requirement already satisfied: jsonschema!=2.5.0,>=2.4 in /usr/local/lib/python3.6/dist-packages (from nbformat>=4.4.0->nbdev==1.0.19) (2.6.0)\n",
      "Requirement already satisfied: traitlets>=4.1 in /usr/local/lib/python3.6/dist-packages (from nbformat>=4.4.0->nbdev==1.0.19) (4.3.3)\n",
      "Requirement already satisfied: ipython-genutils in /usr/local/lib/python3.6/dist-packages (from nbformat>=4.4.0->nbdev==1.0.19) (0.2.0)\n",
      "Requirement already satisfied: jupyter-core in /usr/local/lib/python3.6/dist-packages (from nbformat>=4.4.0->nbdev==1.0.19) (4.6.3)\n",
      "Requirement already satisfied: jinja2>=2.4 in /usr/local/lib/python3.6/dist-packages (from nbconvert<6->nbdev==1.0.19) (2.11.2)\n",
      "Requirement already satisfied: entrypoints>=0.2.2 in /usr/local/lib/python3.6/dist-packages (from nbconvert<6->nbdev==1.0.19) (0.3)\n",
      "Requirement already satisfied: testpath in /usr/local/lib/python3.6/dist-packages (from nbconvert<6->nbdev==1.0.19) (0.4.4)\n",
      "Requirement already satisfied: pygments in /usr/local/lib/python3.6/dist-packages (from nbconvert<6->nbdev==1.0.19) (2.6.1)\n",
      "Requirement already satisfied: mistune<2,>=0.8.1 in /usr/local/lib/python3.6/dist-packages (from nbconvert<6->nbdev==1.0.19) (0.8.4)\n",
      "Requirement already satisfied: bleach in /usr/local/lib/python3.6/dist-packages (from nbconvert<6->nbdev==1.0.19) (3.1.5)\n",
      "Requirement already satisfied: defusedxml in /usr/local/lib/python3.6/dist-packages (from nbconvert<6->nbdev==1.0.19) (0.6.0)\n",
      "Requirement already satisfied: pandocfilters>=1.4.1 in /usr/local/lib/python3.6/dist-packages (from nbconvert<6->nbdev==1.0.19) (1.4.2)\n",
      "Requirement already satisfied: python-dateutil>=2.1 in /usr/local/lib/python3.6/dist-packages (from jupyter_client->nbdev==1.0.19) (2.8.1)\n",
      "Requirement already satisfied: pyzmq>=13 in /usr/local/lib/python3.6/dist-packages (from jupyter_client->nbdev==1.0.19) (19.0.2)\n",
      "Requirement already satisfied: tornado>=4.1 in /usr/local/lib/python3.6/dist-packages (from jupyter_client->nbdev==1.0.19) (5.1.1)\n",
      "Requirement already satisfied: ipython>=4.0.0 in /usr/local/lib/python3.6/dist-packages (from ipykernel->nbdev==1.0.19) (5.5.0)\n",
      "Requirement already satisfied: decorator in /usr/local/lib/python3.6/dist-packages (from traitlets>=4.1->nbformat>=4.4.0->nbdev==1.0.19) (4.4.2)\n",
      "Requirement already satisfied: MarkupSafe>=0.23 in /usr/local/lib/python3.6/dist-packages (from jinja2>=2.4->nbconvert<6->nbdev==1.0.19) (1.1.1)\n",
      "Requirement already satisfied: webencodings in /usr/local/lib/python3.6/dist-packages (from bleach->nbconvert<6->nbdev==1.0.19) (0.5.1)\n",
      "Requirement already satisfied: simplegeneric>0.8 in /usr/local/lib/python3.6/dist-packages (from ipython>=4.0.0->ipykernel->nbdev==1.0.19) (0.8.1)\n",
      "Requirement already satisfied: pexpect; sys_platform != \"win32\" in /usr/local/lib/python3.6/dist-packages (from ipython>=4.0.0->ipykernel->nbdev==1.0.19) (4.8.0)\n",
      "Requirement already satisfied: pickleshare in /usr/local/lib/python3.6/dist-packages (from ipython>=4.0.0->ipykernel->nbdev==1.0.19) (0.7.5)\n",
      "Requirement already satisfied: prompt-toolkit<2.0.0,>=1.0.4 in /usr/local/lib/python3.6/dist-packages (from ipython>=4.0.0->ipykernel->nbdev==1.0.19) (1.0.18)\n",
      "Requirement already satisfied: setuptools>=18.5 in /usr/local/lib/python3.6/dist-packages (from ipython>=4.0.0->ipykernel->nbdev==1.0.19) (50.3.0)\n",
      "Requirement already satisfied: ptyprocess>=0.5 in /usr/local/lib/python3.6/dist-packages (from pexpect; sys_platform != \"win32\"->ipython>=4.0.0->ipykernel->nbdev==1.0.19) (0.6.0)\n",
      "Requirement already satisfied: wcwidth in /usr/local/lib/python3.6/dist-packages (from prompt-toolkit<2.0.0,>=1.0.4->ipython>=4.0.0->ipykernel->nbdev==1.0.19) (0.2.5)\n",
      "Building wheels for collected packages: nbdev\n",
      "  Building wheel for nbdev (setup.py): started\n",
      "  Building wheel for nbdev (setup.py): finished with status 'done'\n",
      "  Created wheel for nbdev: filename=nbdev-1.0.19-cp36-none-any.whl size=51833 sha256=7f3cba85992769c8817dc88ee3bd2e677d680a1de85aab4756d7fdc4d1ed5e09\n",
      "  Stored in directory: /tmp/pip-ephem-wheel-cache-jgx1_w5n/wheels/92/fb/71/9ef9a3edcda4b045bd45abb28de841f18ab36606a7ff7473d4\n",
      "Successfully built nbdev\n",
      "Installing collected packages: fastcore, nbdev\n",
      "Successfully installed fastcore-1.0.13 nbdev-1.0.19 \n",
      "/content/drive/My Drive/Colab Notebooks/github/nextai\n"
     ]
    }
   ],
   "source": [
    "IN_COLAB = 'google.colab' in str(get_ipython())\n",
    "if IN_COLAB:\n",
    "  !pip install git+https://github.com/pete88b/nbdev_colab_helper.git\n",
    "  from nbdev_colab_helper.core import *\n",
    "  project_name = 'nextai'\n",
    "  init_notebook(project_name)"
   ]
  },
  {
   "cell_type": "markdown",
   "metadata": {},
   "source": [
    " # auto_agument\n",
    "\n",
    "> Implements Google AutoAugment augmentations.\n",
    " "
   ]
  },
  {
   "cell_type": "code",
   "execution_count": null,
   "metadata": {},
   "outputs": [],
   "source": [
    "#default_exp auto_augment"
   ]
  },
  {
   "cell_type": "code",
   "execution_count": null,
   "metadata": {},
   "outputs": [
    {
     "name": "stdout",
     "output_type": "stream",
     "text": [
      "\u001b[?25l\r\u001b[K     |█                               | 10kB 20.9MB/s eta 0:00:01\r\u001b[K     |█▉                              | 20kB 1.6MB/s eta 0:00:01\r\u001b[K     |██▊                             | 30kB 2.1MB/s eta 0:00:01\r\u001b[K     |███▊                            | 40kB 1.7MB/s eta 0:00:01\r\u001b[K     |████▋                           | 51kB 2.0MB/s eta 0:00:01\r\u001b[K     |█████▌                          | 61kB 2.2MB/s eta 0:00:01\r\u001b[K     |██████▌                         | 71kB 2.4MB/s eta 0:00:01\r\u001b[K     |███████▍                        | 81kB 2.5MB/s eta 0:00:01\r\u001b[K     |████████▎                       | 92kB 2.6MB/s eta 0:00:01\r\u001b[K     |█████████▎                      | 102kB 2.7MB/s eta 0:00:01\r\u001b[K     |██████████▏                     | 112kB 2.7MB/s eta 0:00:01\r\u001b[K     |███████████                     | 122kB 2.7MB/s eta 0:00:01\r\u001b[K     |████████████                    | 133kB 2.7MB/s eta 0:00:01\r\u001b[K     |█████████████                   | 143kB 2.7MB/s eta 0:00:01\r\u001b[K     |█████████████▉                  | 153kB 2.7MB/s eta 0:00:01\r\u001b[K     |██████████████▊                 | 163kB 2.7MB/s eta 0:00:01\r\u001b[K     |███████████████▊                | 174kB 2.7MB/s eta 0:00:01\r\u001b[K     |████████████████▋               | 184kB 2.7MB/s eta 0:00:01\r\u001b[K     |█████████████████▌              | 194kB 2.7MB/s eta 0:00:01\r\u001b[K     |██████████████████▌             | 204kB 2.7MB/s eta 0:00:01\r\u001b[K     |███████████████████▍            | 215kB 2.7MB/s eta 0:00:01\r\u001b[K     |████████████████████▎           | 225kB 2.7MB/s eta 0:00:01\r\u001b[K     |█████████████████████▏          | 235kB 2.7MB/s eta 0:00:01\r\u001b[K     |██████████████████████▏         | 245kB 2.7MB/s eta 0:00:01\r\u001b[K     |███████████████████████         | 256kB 2.7MB/s eta 0:00:01\r\u001b[K     |████████████████████████        | 266kB 2.7MB/s eta 0:00:01\r\u001b[K     |█████████████████████████       | 276kB 2.7MB/s eta 0:00:01\r\u001b[K     |█████████████████████████▉      | 286kB 2.7MB/s eta 0:00:01\r\u001b[K     |██████████████████████████▊     | 296kB 2.7MB/s eta 0:00:01\r\u001b[K     |███████████████████████████▊    | 307kB 2.7MB/s eta 0:00:01\r\u001b[K     |████████████████████████████▋   | 317kB 2.7MB/s eta 0:00:01\r\u001b[K     |█████████████████████████████▌  | 327kB 2.7MB/s eta 0:00:01\r\u001b[K     |██████████████████████████████▍ | 337kB 2.7MB/s eta 0:00:01\r\u001b[K     |███████████████████████████████▍| 348kB 2.7MB/s eta 0:00:01\r\u001b[K     |████████████████████████████████| 358kB 2.7MB/s \n",
      "\u001b[?25h"
     ]
    }
   ],
   "source": [
    "#hide\n",
    "!pip install fastai --upgrade --quiet"
   ]
  },
  {
   "cell_type": "code",
   "execution_count": null,
   "metadata": {},
   "outputs": [],
   "source": [
    "%nbdev_export\n",
    "from torch import tensor, Tensor\n",
    "import torch"
   ]
  },
  {
   "cell_type": "code",
   "execution_count": null,
   "metadata": {},
   "outputs": [],
   "source": [
    "%nbdev_export\n",
    "# Automatically sets for GPU or CPU environments\n",
    "device = torch.device('cuda' if torch.cuda.is_available() else 'cpu') "
   ]
  },
  {
   "cell_type": "code",
   "execution_count": null,
   "metadata": {},
   "outputs": [],
   "source": [
    ""
   ]
  },
  {
   "cell_type": "code",
   "execution_count": null,
   "metadata": {},
   "outputs": [],
   "source": [
    ""
   ]
  },
  {
   "cell_type": "code",
   "execution_count": null,
   "metadata": {},
   "outputs": [],
   "source": [
    ""
   ]
  },
  {
   "cell_type": "code",
   "execution_count": null,
   "metadata": {},
   "outputs": [],
   "source": [
    ""
   ]
  }
 ],
 "metadata": {
  "kernelspec": {
   "display_name": "Python 3",
   "name": "python3"
  }
 },
 "nbformat": 4,
 "nbformat_minor": 0
}
