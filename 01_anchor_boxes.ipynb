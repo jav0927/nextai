{
 "cells": [
  {
   "cell_type": "code",
   "execution_count": null,
   "metadata": {},
   "outputs": [],
   "source": [
    "IN_COLAB = 'google.colab' in str(get_ipython())\n",
    "if IN_COLAB:\n",
    "  !pip install git+https://github.com/pete88b/nbdev_colab_helper.git\n",
    "  from nbdev_colab_helper.core import *\n",
    "  project_name = 'nextai'\n",
    "  init_notebook(project_name)"
   ]
  },
  {
   "cell_type": "code",
   "execution_count": null,
   "metadata": {},
   "outputs": [],
   "source": [
    "# default_exp core"
   ]
  },
  {
   "cell_type": "markdown",
   "metadata": {},
   "source": [
    "# 01_anchor_boxes\n",
    "\n",
    "> Generate anchor boxes according to pre_set parameters."
   ]
  },
  {
   "cell_type": "code",
   "execution_count": null,
   "metadata": {},
   "outputs": [],
   "source": [
    "#hide\n",
    "from nbdev.showdoc import *\n",
    "from nbdev import *"
   ]
  },
  {
   "cell_type": "code",
   "execution_count": null,
   "metadata": {},
   "outputs": [],
   "source": [
    "#export\n",
    "from fastai.torch_core import *\n",
    "import numpy as np"
   ]
  },
  {
   "cell_type": "code",
   "execution_count": null,
   "metadata": {},
   "outputs": [],
   "source": [
    "#hide\n",
    "# Set up online plotting\n",
    "%matplotlib inline\n",
    "import matplotlib.pyplot as plt"
   ]
  },
  {
   "cell_type": "markdown",
   "metadata": {},
   "source": [
    "#### Anchor Boxes\n",
    "This method creates anchor boxes of various sizes on top of a grid with coordinates of size (-1,-1) top-left and (1,1)  bottom-right.<br><br>\n",
    "Preset Parameters:\n",
    "\n",
    "*   anc_grids  -  Preset anchor sizes: 4 x 4, 2 x 2, 1 x 1\n",
    "*   anc_zooms  -  Preset anchor zooming coefficients: (0.75, 1, 1.3)\n",
    "*   anc_ratios -  Preset anchor size ratios:  (1., 1.), (1., 0.5), (0.5, 1.)\n",
    "<br>\n",
    "\n",
    "Outputs:<br>\n",
    "*   k         -   Number of default boxes associated to a give image. This parameter is used by the SSD model \n",
    "*   anchors   -   Array of anchor boxes to be used in training and inference.<br>              Tensor of dimension (m, 4), where m = k x 21\n",
    "\n",
    "\n",
    "\n",
    "\n",
    "\n"
   ]
  },
  {
   "cell_type": "code",
   "execution_count": null,
   "metadata": {},
   "outputs": [],
   "source": [
    "#export\n",
    "#### Anchor Boxes\n",
    "# This methods creates anchor boxes based on a grid with coordinates  (-1,-1), (1,1), top-left, bottom-right.\n",
    "def get_anchors():\n",
    "    '''\n",
    "    This method creates anchor boxes of various sizes on top of a grid with coordinates of size (-1,-1) top-left and (1,1) bottom-right.\n",
    "\n",
    "    Preset Parameters:\n",
    "    anc_grids - Preset anchor sizes: 4 x 4, 2 x 2, 1 x 1\n",
    "    anc_zooms - Preset anchor zooming coefficients: (0.75, 1, 1.3)\n",
    "    anc_ratios - Preset anchor size ratios: (1., 1.), (1., 0.5), (0.5, 1.)\n",
    "\n",
    "    Outputs:\n",
    "    k - Number of default boxes associated to a give image. This parameter is used by the SSD model\n",
    "    anchors - Array of anchor boxes to be used in training and inference.\n",
    "              Tensor of dimension (m, 4), where m = k x 21\n",
    "    '''\n",
    "    anc_grids = [4, 2, 1]                           # Anchor grid side elements ( 4x4, 2x2, 1x1)\n",
    "    anc_zooms = [0.75, 1., 1.3]                     # Anchor zooming coefficients\n",
    "    anc_ratios = [(1., 1.), (1., 0.5), (0.5, 1.)]   # Anchor aspect rations\n",
    "\n",
    "    anchor_scales = [(anz*i,anz*j) for anz in anc_zooms for (i,j) in anc_ratios]\n",
    "\n",
    "    # *** Number of default boxes (9) associated to a given image ***\n",
    "    k = len(anchor_scales)     # To be used in the SSD model\n",
    "    # **********************************************\n",
    "\n",
    "    # Compute the offsets-to-the-center for each of the grid sizes\n",
    "    anc_offsets = [2/(o*2) for o in anc_grids] \n",
    "\n",
    "    # Compute x-ccordinates for center points\n",
    "    anc_x = np.concatenate([np.repeat(np.linspace(ao-1, 1-ao, ag), ag)\n",
    "                            for ao, ag in zip(anc_offsets,anc_grids)])\n",
    "\n",
    "    # Compute  y_coordinates for center points\n",
    "    anc_y = np.concatenate([np.tile(np.linspace(ao-1, 1-ao, ag), ag)\n",
    "                            for ao, ag in zip(anc_offsets,anc_grids)])\n",
    "\n",
    "    # Compile list of center coordinates\n",
    "    anc_ctrs = np.repeat(np.stack([anc_x,anc_y], axis=1), k, axis=0)\n",
    "\n",
    "    # List of height (h) and width (w) for each anchor box\n",
    "    anc_sizes = np.concatenate([np.array([[2*o/ag,2*p/ag] \n",
    "                  for i in range(ag*ag) for o,p in anchor_scales])\n",
    "                    for ag in anc_grids]) \n",
    "\n",
    "    # List of height (h) and width (w) for each grid cell\n",
    "    grid_sizes = tensor(np.concatenate([np.array([ 1/ag \n",
    "                  for i in range(ag*ag) for o,p in anchor_scales])\n",
    "                      for ag in anc_grids])).unsqueeze(1) * 2 \n",
    "\n",
    "    # List of anchors in format 'center xy, height, width'                \n",
    "    anchors = tensor(np.concatenate([anc_ctrs, anc_sizes], axis=1)).float()\n",
    "\n",
    "    # List of anchor box corner coordinates. Top-left & bottom-right\n",
    "    # TODO: resolve anchor_corners\n",
    "    #anchor_cnr = cthw2corners(anchors)\n",
    "\n",
    "    return anchors"
   ]
  },
  {
   "cell_type": "code",
   "execution_count": null,
   "metadata": {},
   "outputs": [],
   "source": [
    "#hide\n",
    "anchors = get_anchors()"
   ]
  },
  {
   "cell_type": "code",
   "execution_count": null,
   "metadata": {},
   "outputs": [],
   "source": [
    "#export\n",
    "# Display generated anchor grid\n",
    "def show_anchors(ancs, size, y_first=True):\n",
    "    _,ax = plt.subplots(1,1, figsize=(7,7))\n",
    "    ax.set_xticks(np.linspace(-1,1, size[1]+1))\n",
    "    ax.set_yticks(np.linspace(-1,1, size[0]+1))\n",
    "    ax.grid(True, which='both')\n",
    "    ax.scatter(ancs[:,1], ancs[:,0] if y_first else ancs[:,0], ancs[:,1]) \n",
    "    ax.set_yticklabels([])\n",
    "    ax.set_xticklabels([])\n",
    "    ax.set_xlim(-1,1)\n",
    "    ax.set_ylim(1,-1) #-1 is top, 1 is bottom\n",
    "    for i, (x, y) in enumerate(zip(ancs[:, 1], ancs[:, 0])): ax.annotate(i, xy = (x,y))\n"
   ]
  },
  {
   "cell_type": "code",
   "execution_count": null,
   "metadata": {},
   "outputs": [
    {
     "data": {
      "text/plain": [
       "torch.Size([189, 4])"
      ]
     },
     "execution_count": null,
     "metadata": {
      "tags": []
     },
     "output_type": "execute_result"
    }
   ],
   "source": [
    "#hide\n",
    "anchors.shape"
   ]
  },
  {
   "cell_type": "code",
   "execution_count": null,
   "metadata": {},
   "outputs": [
    {
     "name": "stderr",
     "output_type": "stream",
     "text": [
      "/usr/local/lib/python3.6/dist-packages/matplotlib/collections.py:885: RuntimeWarning: invalid value encountered in sqrt\n",
      "  scale = np.sqrt(self._sizes) * dpi / 72.0 * self._factor\n"
     ]
    },
    {
     "data": {
      "image/png": "[encoded data removed]",
      "text/plain": [
       "<Figure size 504x504 with 1 Axes>"
      ]
     },
     "metadata": {
      "needs_background": "light",
      "tags": []
     },
     "output_type": "display_data"
    }
   ],
   "source": [
    "#hide\n",
    "show_anchors(anchors,(4,4), y_first=True)"
   ]
  },
  {
   "cell_type": "code",
   "execution_count": null,
   "metadata": {},
   "outputs": [
    {
     "data": {
      "text/plain": [
       "tensor([[-0.7500, -0.7500,  0.3750,  0.3750],\n",
       "        [-0.7500, -0.7500,  0.3750,  0.1875],\n",
       "        [-0.7500, -0.7500,  0.1875,  0.3750],\n",
       "        [-0.7500, -0.7500,  0.5000,  0.5000],\n",
       "        [-0.7500, -0.7500,  0.5000,  0.2500],\n",
       "        [-0.7500, -0.7500,  0.2500,  0.5000],\n",
       "        [-0.7500, -0.7500,  0.6500,  0.6500],\n",
       "        [-0.7500, -0.7500,  0.6500,  0.3250],\n",
       "        [-0.7500, -0.7500,  0.3250,  0.6500],\n",
       "        [-0.7500, -0.2500,  0.3750,  0.3750],\n",
       "        [-0.7500, -0.2500,  0.3750,  0.1875],\n",
       "        [-0.7500, -0.2500,  0.1875,  0.3750],\n",
       "        [-0.7500, -0.2500,  0.5000,  0.5000],\n",
       "        [-0.7500, -0.2500,  0.5000,  0.2500],\n",
       "        [-0.7500, -0.2500,  0.2500,  0.5000],\n",
       "        [-0.7500, -0.2500,  0.6500,  0.6500],\n",
       "        [-0.7500, -0.2500,  0.6500,  0.3250],\n",
       "        [-0.7500, -0.2500,  0.3250,  0.6500],\n",
       "        [-0.7500,  0.2500,  0.3750,  0.3750],\n",
       "        [-0.7500,  0.2500,  0.3750,  0.1875],\n",
       "        [-0.7500,  0.2500,  0.1875,  0.3750],\n",
       "        [-0.7500,  0.2500,  0.5000,  0.5000],\n",
       "        [-0.7500,  0.2500,  0.5000,  0.2500],\n",
       "        [-0.7500,  0.2500,  0.2500,  0.5000],\n",
       "        [-0.7500,  0.2500,  0.6500,  0.6500],\n",
       "        [-0.7500,  0.2500,  0.6500,  0.3250],\n",
       "        [-0.7500,  0.2500,  0.3250,  0.6500],\n",
       "        [-0.7500,  0.7500,  0.3750,  0.3750],\n",
       "        [-0.7500,  0.7500,  0.3750,  0.1875],\n",
       "        [-0.7500,  0.7500,  0.1875,  0.3750],\n",
       "        [-0.7500,  0.7500,  0.5000,  0.5000],\n",
       "        [-0.7500,  0.7500,  0.5000,  0.2500],\n",
       "        [-0.7500,  0.7500,  0.2500,  0.5000],\n",
       "        [-0.7500,  0.7500,  0.6500,  0.6500],\n",
       "        [-0.7500,  0.7500,  0.6500,  0.3250],\n",
       "        [-0.7500,  0.7500,  0.3250,  0.6500],\n",
       "        [-0.2500, -0.7500,  0.3750,  0.3750],\n",
       "        [-0.2500, -0.7500,  0.3750,  0.1875],\n",
       "        [-0.2500, -0.7500,  0.1875,  0.3750],\n",
       "        [-0.2500, -0.7500,  0.5000,  0.5000],\n",
       "        [-0.2500, -0.7500,  0.5000,  0.2500],\n",
       "        [-0.2500, -0.7500,  0.2500,  0.5000],\n",
       "        [-0.2500, -0.7500,  0.6500,  0.6500],\n",
       "        [-0.2500, -0.7500,  0.6500,  0.3250],\n",
       "        [-0.2500, -0.7500,  0.3250,  0.6500],\n",
       "        [-0.2500, -0.2500,  0.3750,  0.3750],\n",
       "        [-0.2500, -0.2500,  0.3750,  0.1875],\n",
       "        [-0.2500, -0.2500,  0.1875,  0.3750],\n",
       "        [-0.2500, -0.2500,  0.5000,  0.5000],\n",
       "        [-0.2500, -0.2500,  0.5000,  0.2500],\n",
       "        [-0.2500, -0.2500,  0.2500,  0.5000],\n",
       "        [-0.2500, -0.2500,  0.6500,  0.6500],\n",
       "        [-0.2500, -0.2500,  0.6500,  0.3250],\n",
       "        [-0.2500, -0.2500,  0.3250,  0.6500],\n",
       "        [-0.2500,  0.2500,  0.3750,  0.3750],\n",
       "        [-0.2500,  0.2500,  0.3750,  0.1875],\n",
       "        [-0.2500,  0.2500,  0.1875,  0.3750],\n",
       "        [-0.2500,  0.2500,  0.5000,  0.5000],\n",
       "        [-0.2500,  0.2500,  0.5000,  0.2500],\n",
       "        [-0.2500,  0.2500,  0.2500,  0.5000],\n",
       "        [-0.2500,  0.2500,  0.6500,  0.6500],\n",
       "        [-0.2500,  0.2500,  0.6500,  0.3250],\n",
       "        [-0.2500,  0.2500,  0.3250,  0.6500],\n",
       "        [-0.2500,  0.7500,  0.3750,  0.3750],\n",
       "        [-0.2500,  0.7500,  0.3750,  0.1875],\n",
       "        [-0.2500,  0.7500,  0.1875,  0.3750],\n",
       "        [-0.2500,  0.7500,  0.5000,  0.5000],\n",
       "        [-0.2500,  0.7500,  0.5000,  0.2500],\n",
       "        [-0.2500,  0.7500,  0.2500,  0.5000],\n",
       "        [-0.2500,  0.7500,  0.6500,  0.6500],\n",
       "        [-0.2500,  0.7500,  0.6500,  0.3250],\n",
       "        [-0.2500,  0.7500,  0.3250,  0.6500],\n",
       "        [ 0.2500, -0.7500,  0.3750,  0.3750],\n",
       "        [ 0.2500, -0.7500,  0.3750,  0.1875],\n",
       "        [ 0.2500, -0.7500,  0.1875,  0.3750],\n",
       "        [ 0.2500, -0.7500,  0.5000,  0.5000],\n",
       "        [ 0.2500, -0.7500,  0.5000,  0.2500],\n",
       "        [ 0.2500, -0.7500,  0.2500,  0.5000],\n",
       "        [ 0.2500, -0.7500,  0.6500,  0.6500],\n",
       "        [ 0.2500, -0.7500,  0.6500,  0.3250],\n",
       "        [ 0.2500, -0.7500,  0.3250,  0.6500],\n",
       "        [ 0.2500, -0.2500,  0.3750,  0.3750],\n",
       "        [ 0.2500, -0.2500,  0.3750,  0.1875],\n",
       "        [ 0.2500, -0.2500,  0.1875,  0.3750],\n",
       "        [ 0.2500, -0.2500,  0.5000,  0.5000],\n",
       "        [ 0.2500, -0.2500,  0.5000,  0.2500],\n",
       "        [ 0.2500, -0.2500,  0.2500,  0.5000],\n",
       "        [ 0.2500, -0.2500,  0.6500,  0.6500],\n",
       "        [ 0.2500, -0.2500,  0.6500,  0.3250],\n",
       "        [ 0.2500, -0.2500,  0.3250,  0.6500],\n",
       "        [ 0.2500,  0.2500,  0.3750,  0.3750],\n",
       "        [ 0.2500,  0.2500,  0.3750,  0.1875],\n",
       "        [ 0.2500,  0.2500,  0.1875,  0.3750],\n",
       "        [ 0.2500,  0.2500,  0.5000,  0.5000],\n",
       "        [ 0.2500,  0.2500,  0.5000,  0.2500],\n",
       "        [ 0.2500,  0.2500,  0.2500,  0.5000],\n",
       "        [ 0.2500,  0.2500,  0.6500,  0.6500],\n",
       "        [ 0.2500,  0.2500,  0.6500,  0.3250],\n",
       "        [ 0.2500,  0.2500,  0.3250,  0.6500],\n",
       "        [ 0.2500,  0.7500,  0.3750,  0.3750],\n",
       "        [ 0.2500,  0.7500,  0.3750,  0.1875],\n",
       "        [ 0.2500,  0.7500,  0.1875,  0.3750],\n",
       "        [ 0.2500,  0.7500,  0.5000,  0.5000],\n",
       "        [ 0.2500,  0.7500,  0.5000,  0.2500],\n",
       "        [ 0.2500,  0.7500,  0.2500,  0.5000],\n",
       "        [ 0.2500,  0.7500,  0.6500,  0.6500],\n",
       "        [ 0.2500,  0.7500,  0.6500,  0.3250],\n",
       "        [ 0.2500,  0.7500,  0.3250,  0.6500],\n",
       "        [ 0.7500, -0.7500,  0.3750,  0.3750],\n",
       "        [ 0.7500, -0.7500,  0.3750,  0.1875],\n",
       "        [ 0.7500, -0.7500,  0.1875,  0.3750],\n",
       "        [ 0.7500, -0.7500,  0.5000,  0.5000],\n",
       "        [ 0.7500, -0.7500,  0.5000,  0.2500],\n",
       "        [ 0.7500, -0.7500,  0.2500,  0.5000],\n",
       "        [ 0.7500, -0.7500,  0.6500,  0.6500],\n",
       "        [ 0.7500, -0.7500,  0.6500,  0.3250],\n",
       "        [ 0.7500, -0.7500,  0.3250,  0.6500],\n",
       "        [ 0.7500, -0.2500,  0.3750,  0.3750],\n",
       "        [ 0.7500, -0.2500,  0.3750,  0.1875],\n",
       "        [ 0.7500, -0.2500,  0.1875,  0.3750],\n",
       "        [ 0.7500, -0.2500,  0.5000,  0.5000],\n",
       "        [ 0.7500, -0.2500,  0.5000,  0.2500],\n",
       "        [ 0.7500, -0.2500,  0.2500,  0.5000],\n",
       "        [ 0.7500, -0.2500,  0.6500,  0.6500],\n",
       "        [ 0.7500, -0.2500,  0.6500,  0.3250],\n",
       "        [ 0.7500, -0.2500,  0.3250,  0.6500],\n",
       "        [ 0.7500,  0.2500,  0.3750,  0.3750],\n",
       "        [ 0.7500,  0.2500,  0.3750,  0.1875],\n",
       "        [ 0.7500,  0.2500,  0.1875,  0.3750],\n",
       "        [ 0.7500,  0.2500,  0.5000,  0.5000],\n",
       "        [ 0.7500,  0.2500,  0.5000,  0.2500],\n",
       "        [ 0.7500,  0.2500,  0.2500,  0.5000],\n",
       "        [ 0.7500,  0.2500,  0.6500,  0.6500],\n",
       "        [ 0.7500,  0.2500,  0.6500,  0.3250],\n",
       "        [ 0.7500,  0.2500,  0.3250,  0.6500],\n",
       "        [ 0.7500,  0.7500,  0.3750,  0.3750],\n",
       "        [ 0.7500,  0.7500,  0.3750,  0.1875],\n",
       "        [ 0.7500,  0.7500,  0.1875,  0.3750],\n",
       "        [ 0.7500,  0.7500,  0.5000,  0.5000],\n",
       "        [ 0.7500,  0.7500,  0.5000,  0.2500],\n",
       "        [ 0.7500,  0.7500,  0.2500,  0.5000],\n",
       "        [ 0.7500,  0.7500,  0.6500,  0.6500],\n",
       "        [ 0.7500,  0.7500,  0.6500,  0.3250],\n",
       "        [ 0.7500,  0.7500,  0.3250,  0.6500],\n",
       "        [-0.5000, -0.5000,  0.7500,  0.7500],\n",
       "        [-0.5000, -0.5000,  0.7500,  0.3750],\n",
       "        [-0.5000, -0.5000,  0.3750,  0.7500],\n",
       "        [-0.5000, -0.5000,  1.0000,  1.0000],\n",
       "        [-0.5000, -0.5000,  1.0000,  0.5000],\n",
       "        [-0.5000, -0.5000,  0.5000,  1.0000],\n",
       "        [-0.5000, -0.5000,  1.3000,  1.3000],\n",
       "        [-0.5000, -0.5000,  1.3000,  0.6500],\n",
       "        [-0.5000, -0.5000,  0.6500,  1.3000],\n",
       "        [-0.5000,  0.5000,  0.7500,  0.7500],\n",
       "        [-0.5000,  0.5000,  0.7500,  0.3750],\n",
       "        [-0.5000,  0.5000,  0.3750,  0.7500],\n",
       "        [-0.5000,  0.5000,  1.0000,  1.0000],\n",
       "        [-0.5000,  0.5000,  1.0000,  0.5000],\n",
       "        [-0.5000,  0.5000,  0.5000,  1.0000],\n",
       "        [-0.5000,  0.5000,  1.3000,  1.3000],\n",
       "        [-0.5000,  0.5000,  1.3000,  0.6500],\n",
       "        [-0.5000,  0.5000,  0.6500,  1.3000],\n",
       "        [ 0.5000, -0.5000,  0.7500,  0.7500],\n",
       "        [ 0.5000, -0.5000,  0.7500,  0.3750],\n",
       "        [ 0.5000, -0.5000,  0.3750,  0.7500],\n",
       "        [ 0.5000, -0.5000,  1.0000,  1.0000],\n",
       "        [ 0.5000, -0.5000,  1.0000,  0.5000],\n",
       "        [ 0.5000, -0.5000,  0.5000,  1.0000],\n",
       "        [ 0.5000, -0.5000,  1.3000,  1.3000],\n",
       "        [ 0.5000, -0.5000,  1.3000,  0.6500],\n",
       "        [ 0.5000, -0.5000,  0.6500,  1.3000],\n",
       "        [ 0.5000,  0.5000,  0.7500,  0.7500],\n",
       "        [ 0.5000,  0.5000,  0.7500,  0.3750],\n",
       "        [ 0.5000,  0.5000,  0.3750,  0.7500],\n",
       "        [ 0.5000,  0.5000,  1.0000,  1.0000],\n",
       "        [ 0.5000,  0.5000,  1.0000,  0.5000],\n",
       "        [ 0.5000,  0.5000,  0.5000,  1.0000],\n",
       "        [ 0.5000,  0.5000,  1.3000,  1.3000],\n",
       "        [ 0.5000,  0.5000,  1.3000,  0.6500],\n",
       "        [ 0.5000,  0.5000,  0.6500,  1.3000],\n",
       "        [ 0.0000,  0.0000,  1.5000,  1.5000],\n",
       "        [ 0.0000,  0.0000,  1.5000,  0.7500],\n",
       "        [ 0.0000,  0.0000,  0.7500,  1.5000],\n",
       "        [ 0.0000,  0.0000,  2.0000,  2.0000],\n",
       "        [ 0.0000,  0.0000,  2.0000,  1.0000],\n",
       "        [ 0.0000,  0.0000,  1.0000,  2.0000],\n",
       "        [ 0.0000,  0.0000,  2.6000,  2.6000],\n",
       "        [ 0.0000,  0.0000,  2.6000,  1.3000],\n",
       "        [ 0.0000,  0.0000,  1.3000,  2.6000]])"
      ]
     },
     "execution_count": null,
     "metadata": {
      "tags": []
     },
     "output_type": "execute_result"
    }
   ],
   "source": [
    "#hide\n",
    "anchors"
   ]
  },
  {
   "cell_type": "code",
   "execution_count": null,
   "metadata": {},
   "outputs": [
    {
     "name": "stdout",
     "output_type": "stream",
     "text": [
      "Converted 00_core.ipynb.\n",
      "Converted 00_inference_core.ipynb.\n",
      "Converted 01_anchor_boxes.ipynb.\n",
      "Converted index.ipynb.\n"
     ]
    }
   ],
   "source": [
    "#hide\n",
    "from nbdev.export import notebook2script\n",
    "notebook2script()"
   ]
  }
 ],
 "metadata": {
  "kernelspec": {
   "display_name": "Python 3",
   "language": "python",
   "name": "python3"
  }
 },
 "nbformat": 4,
 "nbformat_minor": 0
}
