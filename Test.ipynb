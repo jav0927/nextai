{
 "cells": [
  {
   "cell_type": "code",
   "execution_count": null,
   "metadata": {},
   "outputs": [
    {
     "name": "stdout",
     "output_type": "stream",
     "text": [
      "Collecting git+https://github.com/pete88b/nbdev_colab_helper.git\n",
      "  Cloning https://github.com/pete88b/nbdev_colab_helper.git to /tmp/pip-req-build-1k705b95\n",
      "  Running command git clone -q https://github.com/pete88b/nbdev_colab_helper.git /tmp/pip-req-build-1k705b95\n",
      "Requirement already satisfied (use --upgrade to upgrade): nbdev-colab-helper==0.0.1 from git+https://github.com/pete88b/nbdev_colab_helper.git in /usr/local/lib/python3.6/dist-packages\n",
      "Building wheels for collected packages: nbdev-colab-helper\n",
      "  Building wheel for nbdev-colab-helper (setup.py) ... \u001b[?25l\u001b[?25hdone\n",
      "  Created wheel for nbdev-colab-helper: filename=nbdev_colab_helper-0.0.1-cp36-none-any.whl size=9648 sha256=388e7e0b5f41d902692edc503219fecc0d4c8a23eae8be9df8f17b359cab8f3e\n",
      "  Stored in directory: /tmp/pip-ephem-wheel-cache-qgplo7na/wheels/11/52/f4/a49fbdda142e8992bb1695aa9eb30f499294a14cfb4b753fbe\n",
      "Successfully built nbdev-colab-helper\n",
      "Connecting to google drive\n",
      "Drive already mounted at /content/drive; to attempt to forcibly remount, call drive.mount(\"/content/drive\", force_remount=True).\n",
      "/content/drive/My Drive/Colab Notebooks/github/nextai\n",
      "pip install git+https://github.com/fastai/nbdev.git\n",
      "   Collecting git+https://github.com/fastai/nbdev.git\n",
      "  Cloning https://github.com/fastai/nbdev.git to /tmp/pip-req-build-6xp9jkvg\n",
      "Requirement already satisfied (use --upgrade to upgrade): nbdev==1.0.18 from git+https://github.com/fastai/nbdev.git in /usr/local/lib/python3.6/dist-packages\n",
      "Requirement already satisfied: pip in /usr/local/lib/python3.6/dist-packages (from nbdev==1.0.18) (19.3.1)\n",
      "Requirement already satisfied: packaging in /usr/local/lib/python3.6/dist-packages (from nbdev==1.0.18) (20.4)\n",
      "Requirement already satisfied: fastcore>=1.0.5 in /usr/local/lib/python3.6/dist-packages (from nbdev==1.0.18) (1.0.9)\n",
      "Requirement already satisfied: nbformat>=4.4.0 in /usr/local/lib/python3.6/dist-packages (from nbdev==1.0.18) (5.0.7)\n",
      "Requirement already satisfied: nbconvert<6 in /usr/local/lib/python3.6/dist-packages (from nbdev==1.0.18) (5.6.1)\n",
      "Requirement already satisfied: pyyaml in /usr/local/lib/python3.6/dist-packages (from nbdev==1.0.18) (3.13)\n",
      "Requirement already satisfied: fastscript>=1.0.0 in /usr/local/lib/python3.6/dist-packages (from nbdev==1.0.18) (1.0.0)\n",
      "Requirement already satisfied: jupyter_client in /usr/local/lib/python3.6/dist-packages (from nbdev==1.0.18) (5.3.5)\n",
      "Requirement already satisfied: ipykernel in /usr/local/lib/python3.6/dist-packages (from nbdev==1.0.18) (4.10.1)\n",
      "Requirement already satisfied: six in /usr/local/lib/python3.6/dist-packages (from packaging->nbdev==1.0.18) (1.15.0)\n",
      "Requirement already satisfied: pyparsing>=2.0.2 in /usr/local/lib/python3.6/dist-packages (from packaging->nbdev==1.0.18) (2.4.7)\n",
      "Requirement already satisfied: traitlets>=4.1 in /usr/local/lib/python3.6/dist-packages (from nbformat>=4.4.0->nbdev==1.0.18) (4.3.3)\n",
      "Requirement already satisfied: ipython-genutils in /usr/local/lib/python3.6/dist-packages (from nbformat>=4.4.0->nbdev==1.0.18) (0.2.0)\n",
      "Requirement already satisfied: jupyter-core in /usr/local/lib/python3.6/dist-packages (from nbformat>=4.4.0->nbdev==1.0.18) (4.6.3)\n",
      "Requirement already satisfied: jsonschema!=2.5.0,>=2.4 in /usr/local/lib/python3.6/dist-packages (from nbformat>=4.4.0->nbdev==1.0.18) (2.6.0)\n",
      "Requirement already satisfied: entrypoints>=0.2.2 in /usr/local/lib/python3.6/dist-packages (from nbconvert<6->nbdev==1.0.18) (0.3)\n",
      "Requirement already satisfied: defusedxml in /usr/local/lib/python3.6/dist-packages (from nbconvert<6->nbdev==1.0.18) (0.6.0)\n",
      "Requirement already satisfied: pandocfilters>=1.4.1 in /usr/local/lib/python3.6/dist-packages (from nbconvert<6->nbdev==1.0.18) (1.4.2)\n",
      "Requirement already satisfied: testpath in /usr/local/lib/python3.6/dist-packages (from nbconvert<6->nbdev==1.0.18) (0.4.4)\n",
      "Requirement already satisfied: jinja2>=2.4 in /usr/local/lib/python3.6/dist-packages (from nbconvert<6->nbdev==1.0.18) (2.11.2)\n",
      "Requirement already satisfied: bleach in /usr/local/lib/python3.6/dist-packages (from nbconvert<6->nbdev==1.0.18) (3.1.5)\n",
      "Requirement already satisfied: pygments in /usr/local/lib/python3.6/dist-packages (from nbconvert<6->nbdev==1.0.18) (2.1.3)\n",
      "Requirement already satisfied: mistune<2,>=0.8.1 in /usr/local/lib/python3.6/dist-packages (from nbconvert<6->nbdev==1.0.18) (0.8.4)\n",
      "Requirement already satisfied: python-dateutil>=2.1 in /usr/local/lib/python3.6/dist-packages (from jupyter_client->nbdev==1.0.18) (2.8.1)\n",
      "Requirement already satisfied: pyzmq>=13 in /usr/local/lib/python3.6/dist-packages (from jupyter_client->nbdev==1.0.18) (19.0.2)\n",
      "Requirement already satisfied: tornado>=4.1 in /usr/local/lib/python3.6/dist-packages (from jupyter_client->nbdev==1.0.18) (5.1.1)\n",
      "Requirement already satisfied: ipython>=4.0.0 in /usr/local/lib/python3.6/dist-packages (from ipykernel->nbdev==1.0.18) (5.5.0)\n",
      "Requirement already satisfied: decorator in /usr/local/lib/python3.6/dist-packages (from traitlets>=4.1->nbformat>=4.4.0->nbdev==1.0.18) (4.4.2)\n",
      "Requirement already satisfied: MarkupSafe>=0.23 in /usr/local/lib/python3.6/dist-packages (from jinja2>=2.4->nbconvert<6->nbdev==1.0.18) (1.1.1)\n",
      "Requirement already satisfied: webencodings in /usr/local/lib/python3.6/dist-packages (from bleach->nbconvert<6->nbdev==1.0.18) (0.5.1)\n",
      "Requirement already satisfied: pickleshare in /usr/local/lib/python3.6/dist-packages (from ipython>=4.0.0->ipykernel->nbdev==1.0.18) (0.7.5)\n",
      "Requirement already satisfied: simplegeneric>0.8 in /usr/local/lib/python3.6/dist-packages (from ipython>=4.0.0->ipykernel->nbdev==1.0.18) (0.8.1)\n",
      "Requirement already satisfied: pexpect; sys_platform != \"win32\" in /usr/local/lib/python3.6/dist-packages (from ipython>=4.0.0->ipykernel->nbdev==1.0.18) (4.8.0)\n",
      "Requirement already satisfied: prompt-toolkit<2.0.0,>=1.0.4 in /usr/local/lib/python3.6/dist-packages (from ipython>=4.0.0->ipykernel->nbdev==1.0.18) (1.0.18)\n",
      "Requirement already satisfied: setuptools>=18.5 in /usr/local/lib/python3.6/dist-packages (from ipython>=4.0.0->ipykernel->nbdev==1.0.18) (49.6.0)\n",
      "Requirement already satisfied: ptyprocess>=0.5 in /usr/local/lib/python3.6/dist-packages (from pexpect; sys_platform != \"win32\"->ipython>=4.0.0->ipykernel->nbdev==1.0.18) (0.6.0)\n",
      "Requirement already satisfied: wcwidth in /usr/local/lib/python3.6/dist-packages (from prompt-toolkit<2.0.0,>=1.0.4->ipython>=4.0.0->ipykernel->nbdev==1.0.18) (0.2.5)\n",
      "Building wheels for collected packages: nbdev\n",
      "  Building wheel for nbdev (setup.py): started\n",
      "  Building wheel for nbdev (setup.py): finished with status 'done'\n",
      "  Created wheel for nbdev: filename=nbdev-1.0.18-cp36-none-any.whl size=55139 sha256=b2c6206ab7f8684c273ca8e2b4e286fb9495fae3214ba9a89bc82397d2bb54fd\n",
      "  Stored in directory: /tmp/pip-ephem-wheel-cache-cawbroso/wheels/92/fb/71/9ef9a3edcda4b045bd45abb28de841f18ab36606a7ff7473d4\n",
      "Successfully built nbdev \n",
      "/content/drive/My Drive/Colab Notebooks/github/nextai\n"
     ]
    }
   ],
   "source": [
    "IN_COLAB = 'google.colab' in str(get_ipython())\n",
    "if IN_COLAB:\n",
    "  !pip install git+https://github.com/pete88b/nbdev_colab_helper.git\n",
    "  from nbdev_colab_helper.core import *\n",
    "  project_name = 'nextai'\n",
    "  init_notebook(project_name)"
   ]
  },
  {
   "cell_type": "code",
   "execution_count": null,
   "metadata": {},
   "outputs": [
    {
     "name": "stdout",
     "output_type": "stream",
     "text": [
      "Obtaining file:///content/drive/My%20Drive/Colab%20Notebooks/github/nextai\n",
      "Installing collected packages: nextai-lib\n",
      "  Found existing installation: nextai-lib 0.0.1\n",
      "    Can't uninstall 'nextai-lib'. No files were found to uninstall.\n",
      "  Running setup.py develop for nextai-lib\n",
      "Successfully installed nextai-lib\n"
     ]
    }
   ],
   "source": [
    "!pip install -e \"/content/drive/My Drive/Colab Notebooks/github/nextai\""
   ]
  },
  {
   "cell_type": "code",
   "execution_count": null,
   "metadata": {},
   "outputs": [
    {
     "ename": "SyntaxError",
     "evalue": "ignored",
     "output_type": "error",
     "traceback": [
      "\u001b[0;36m  File \u001b[0;32m\"<ipython-input-27-4b46341c35f5>\"\u001b[0;36m, line \u001b[0;32m1\u001b[0m\n\u001b[0;31m    from 00_inference_core import rotate_90_minus\u001b[0m\n\u001b[0m           ^\u001b[0m\n\u001b[0;31mSyntaxError\u001b[0m\u001b[0;31m:\u001b[0m invalid token\n"
     ]
    }
   ],
   "source": [
    "from 00_inference_core import rotate_90_minus"
   ]
  },
  {
   "cell_type": "code",
   "execution_count": null,
   "metadata": {},
   "outputs": [
    {
     "name": "stdout",
     "output_type": "stream",
     "text": [
      "\u001b[?25l\r\u001b[K     |█                               | 10kB 20.7MB/s eta 0:00:01\r\u001b[K     |█▉                              | 20kB 1.8MB/s eta 0:00:01\r\u001b[K     |██▊                             | 30kB 2.3MB/s eta 0:00:01\r\u001b[K     |███▊                            | 40kB 2.6MB/s eta 0:00:01\r\u001b[K     |████▋                           | 51kB 2.1MB/s eta 0:00:01\r\u001b[K     |█████▌                          | 61kB 2.3MB/s eta 0:00:01\r\u001b[K     |██████▌                         | 71kB 2.5MB/s eta 0:00:01\r\u001b[K     |███████▍                        | 81kB 2.7MB/s eta 0:00:01\r\u001b[K     |████████▎                       | 92kB 2.9MB/s eta 0:00:01\r\u001b[K     |█████████▎                      | 102kB 2.8MB/s eta 0:00:01\r\u001b[K     |██████████▏                     | 112kB 2.8MB/s eta 0:00:01\r\u001b[K     |███████████                     | 122kB 2.8MB/s eta 0:00:01\r\u001b[K     |████████████                    | 133kB 2.8MB/s eta 0:00:01\r\u001b[K     |█████████████                   | 143kB 2.8MB/s eta 0:00:01\r\u001b[K     |█████████████▉                  | 153kB 2.8MB/s eta 0:00:01\r\u001b[K     |██████████████▉                 | 163kB 2.8MB/s eta 0:00:01\r\u001b[K     |███████████████▊                | 174kB 2.8MB/s eta 0:00:01\r\u001b[K     |████████████████▋               | 184kB 2.8MB/s eta 0:00:01\r\u001b[K     |█████████████████▋              | 194kB 2.8MB/s eta 0:00:01\r\u001b[K     |██████████████████▌             | 204kB 2.8MB/s eta 0:00:01\r\u001b[K     |███████████████████▍            | 215kB 2.8MB/s eta 0:00:01\r\u001b[K     |████████████████████▍           | 225kB 2.8MB/s eta 0:00:01\r\u001b[K     |█████████████████████▎          | 235kB 2.8MB/s eta 0:00:01\r\u001b[K     |██████████████████████▏         | 245kB 2.8MB/s eta 0:00:01\r\u001b[K     |███████████████████████▏        | 256kB 2.8MB/s eta 0:00:01\r\u001b[K     |████████████████████████        | 266kB 2.8MB/s eta 0:00:01\r\u001b[K     |█████████████████████████       | 276kB 2.8MB/s eta 0:00:01\r\u001b[K     |█████████████████████████▉      | 286kB 2.8MB/s eta 0:00:01\r\u001b[K     |██████████████████████████▉     | 296kB 2.8MB/s eta 0:00:01\r\u001b[K     |███████████████████████████▊    | 307kB 2.8MB/s eta 0:00:01\r\u001b[K     |████████████████████████████▋   | 317kB 2.8MB/s eta 0:00:01\r\u001b[K     |█████████████████████████████▋  | 327kB 2.8MB/s eta 0:00:01\r\u001b[K     |██████████████████████████████▌ | 337kB 2.8MB/s eta 0:00:01\r\u001b[K     |███████████████████████████████▍| 348kB 2.8MB/s eta 0:00:01\r\u001b[K     |████████████████████████████████| 358kB 2.8MB/s \n",
      "\u001b[?25h"
     ]
    }
   ],
   "source": [
    "!pip install fastai --upgrade --quiet"
   ]
  },
  {
   "cell_type": "code",
   "execution_count": null,
   "metadata": {},
   "outputs": [
    {
     "ename": "NameError",
     "evalue": "ignored",
     "output_type": "error",
     "traceback": [
      "\u001b[0;31m---------------------------------------------------------------------------\u001b[0m",
      "\u001b[0;31mNameError\u001b[0m                                 Traceback (most recent call last)",
      "\u001b[0;32m<ipython-input-24-0431cb4d700b>\u001b[0m in \u001b[0;36m<module>\u001b[0;34m()\u001b[0m\n\u001b[1;32m      1\u001b[0m \u001b[0;31m#hide\u001b[0m\u001b[0;34m\u001b[0m\u001b[0;34m\u001b[0m\u001b[0;34m\u001b[0m\u001b[0m\n\u001b[1;32m      2\u001b[0m \u001b[0;31m#Insensitive to tensor dimensions\u001b[0m\u001b[0;34m\u001b[0m\u001b[0;34m\u001b[0m\u001b[0;34m\u001b[0m\u001b[0m\n\u001b[0;32m----> 3\u001b[0;31m \u001b[0mrot\u001b[0m \u001b[0;34m=\u001b[0m \u001b[0mrotate_90_minus\u001b[0m\u001b[0;34m(\u001b[0m\u001b[0mtorch\u001b[0m\u001b[0;34m.\u001b[0m\u001b[0mtensor\u001b[0m\u001b[0;34m(\u001b[0m\u001b[0;34m[\u001b[0m\u001b[0;36m0\u001b[0m\u001b[0;34m,\u001b[0m\u001b[0;36m0\u001b[0m\u001b[0;34m,\u001b[0m\u001b[0;36m1\u001b[0m\u001b[0;34m,\u001b[0m\u001b[0;36m1\u001b[0m\u001b[0;34m]\u001b[0m\u001b[0;34m)\u001b[0m\u001b[0;34m)\u001b[0m\u001b[0;34m;\u001b[0m \u001b[0mrot\u001b[0m\u001b[0;34m\u001b[0m\u001b[0;34m\u001b[0m\u001b[0m\n\u001b[0m",
      "\u001b[0;31mNameError\u001b[0m: name 'rotate_90_minus' is not defined"
     ]
    }
   ],
   "source": [
    "#hide\n",
    "#Insensitive to tensor dimensions\n",
    "rot = rotate_90_minus(torch.tensor([0,0,1,1])); rot"
   ]
  }
 ],
 "metadata": {
  "kernelspec": {
   "display_name": "Python 3",
   "name": "python3"
  }
 },
 "nbformat": 4,
 "nbformat_minor": 0
}
